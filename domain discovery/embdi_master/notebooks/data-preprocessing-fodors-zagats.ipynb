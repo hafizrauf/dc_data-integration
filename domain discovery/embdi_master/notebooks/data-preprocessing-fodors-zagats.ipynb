{
 "cells": [
  {
   "cell_type": "markdown",
   "metadata": {},
   "source": [
    "## Data Preprocessing for Fodors-Zagats datasets"
   ]
  },
  {
   "cell_type": "code",
   "execution_count": 22,
   "metadata": {},
   "outputs": [],
   "source": [
    "import pandas as pd\n",
    "import numpy as np\n",
    "import hashlib\n",
    "import re\n",
    "import random as rd\n",
    "import datetime\n",
    "from datasketch import MinHash, MinHashLSH, MinHashLSHForest\n",
    "from similarity.levenshtein import Levenshtein\n",
    "from similarity.normalized_levenshtein import NormalizedLevenshtein\n",
    "\n",
    "import sys\n",
    "sys.path.append('../')\n",
    "\n",
    "import EmbDI.data_preprocessing as dp\n",
    "\n",
    "from collections import Counter\n",
    "import matplotlib.pyplot as plt"
   ]
  },
  {
   "cell_type": "markdown",
   "metadata": {},
   "source": [
    "#### Loading the Fodors dataset"
   ]
  },
  {
   "cell_type": "code",
   "execution_count": 23,
   "metadata": {},
   "outputs": [
    {
     "name": "stdout",
     "output_type": "stream",
     "text": [
      "(533, 7)\n"
     ]
    },
    {
     "data": {
      "text/html": [
       "<div>\n",
       "<style scoped>\n",
       "    .dataframe tbody tr th:only-of-type {\n",
       "        vertical-align: middle;\n",
       "    }\n",
       "\n",
       "    .dataframe tbody tr th {\n",
       "        vertical-align: top;\n",
       "    }\n",
       "\n",
       "    .dataframe thead th {\n",
       "        text-align: right;\n",
       "    }\n",
       "</style>\n",
       "<table border=\"1\" class=\"dataframe\">\n",
       "  <thead>\n",
       "    <tr style=\"text-align: right;\">\n",
       "      <th></th>\n",
       "      <th>id</th>\n",
       "      <th>name</th>\n",
       "      <th>addr</th>\n",
       "      <th>city</th>\n",
       "      <th>phone</th>\n",
       "      <th>type</th>\n",
       "      <th>class</th>\n",
       "    </tr>\n",
       "  </thead>\n",
       "  <tbody>\n",
       "    <tr>\n",
       "      <th>0</th>\n",
       "      <td>0</td>\n",
       "      <td>` arnie morton \\ 's of chicago '</td>\n",
       "      <td>' 435 s. la cienega blv . '</td>\n",
       "      <td>` los angeles '</td>\n",
       "      <td>310/246 -1501</td>\n",
       "      <td>american</td>\n",
       "      <td>0</td>\n",
       "    </tr>\n",
       "    <tr>\n",
       "      <th>1</th>\n",
       "      <td>1</td>\n",
       "      <td>` art \\ 's delicatessen '</td>\n",
       "      <td>' 12224 ventura blvd. '</td>\n",
       "      <td>` studio city '</td>\n",
       "      <td>818/762 -1221</td>\n",
       "      <td>american</td>\n",
       "      <td>1</td>\n",
       "    </tr>\n",
       "    <tr>\n",
       "      <th>2</th>\n",
       "      <td>2</td>\n",
       "      <td>` hotel bel-air '</td>\n",
       "      <td>' 701 stone canyon rd. '</td>\n",
       "      <td>` bel air '</td>\n",
       "      <td>310/472 -1211</td>\n",
       "      <td>californian</td>\n",
       "      <td>2</td>\n",
       "    </tr>\n",
       "    <tr>\n",
       "      <th>3</th>\n",
       "      <td>3</td>\n",
       "      <td>` cafe bizou '</td>\n",
       "      <td>' 14016 ventura blvd. '</td>\n",
       "      <td>` sherman oaks '</td>\n",
       "      <td>818/788 -3536</td>\n",
       "      <td>french</td>\n",
       "      <td>3</td>\n",
       "    </tr>\n",
       "    <tr>\n",
       "      <th>4</th>\n",
       "      <td>4</td>\n",
       "      <td>campanile</td>\n",
       "      <td>' 624 s. la brea ave. '</td>\n",
       "      <td>` los angeles '</td>\n",
       "      <td>213/938 -1447</td>\n",
       "      <td>american</td>\n",
       "      <td>4</td>\n",
       "    </tr>\n",
       "  </tbody>\n",
       "</table>\n",
       "</div>"
      ],
      "text/plain": [
       "   id                              name                         addr  \\\n",
       "0   0  ` arnie morton \\ 's of chicago '  ' 435 s. la cienega blv . '   \n",
       "1   1         ` art \\ 's delicatessen '      ' 12224 ventura blvd. '   \n",
       "2   2                 ` hotel bel-air '     ' 701 stone canyon rd. '   \n",
       "3   3                    ` cafe bizou '      ' 14016 ventura blvd. '   \n",
       "4   4                         campanile      ' 624 s. la brea ave. '   \n",
       "\n",
       "               city          phone         type  class  \n",
       "0   ` los angeles '  310/246 -1501     american      0  \n",
       "1   ` studio city '  818/762 -1221     american      1  \n",
       "2       ` bel air '  310/472 -1211  californian      2  \n",
       "3  ` sherman oaks '  818/788 -3536       french      3  \n",
       "4   ` los angeles '  213/938 -1447     american      4  "
      ]
     },
     "execution_count": 23,
     "metadata": {},
     "output_type": "execute_result"
    }
   ],
   "source": [
    "f1 = '../pipeline/experiments/fodors-zagats/exp_data/tableA.csv'\n",
    "df1 = pd.read_csv(f1, encoding='utf-8')\n",
    "print(df1.shape)\n",
    "df1.head(5)"
   ]
  },
  {
   "cell_type": "markdown",
   "metadata": {},
   "source": [
    "#### Loading the Zagats dataset"
   ]
  },
  {
   "cell_type": "code",
   "execution_count": 24,
   "metadata": {},
   "outputs": [
    {
     "name": "stdout",
     "output_type": "stream",
     "text": [
      "(331, 7)\n"
     ]
    },
    {
     "data": {
      "text/html": [
       "<div>\n",
       "<style scoped>\n",
       "    .dataframe tbody tr th:only-of-type {\n",
       "        vertical-align: middle;\n",
       "    }\n",
       "\n",
       "    .dataframe tbody tr th {\n",
       "        vertical-align: top;\n",
       "    }\n",
       "\n",
       "    .dataframe thead th {\n",
       "        text-align: right;\n",
       "    }\n",
       "</style>\n",
       "<table border=\"1\" class=\"dataframe\">\n",
       "  <thead>\n",
       "    <tr style=\"text-align: right;\">\n",
       "      <th></th>\n",
       "      <th>id</th>\n",
       "      <th>name</th>\n",
       "      <th>addr</th>\n",
       "      <th>city</th>\n",
       "      <th>phone</th>\n",
       "      <th>type</th>\n",
       "      <th>class</th>\n",
       "    </tr>\n",
       "  </thead>\n",
       "  <tbody>\n",
       "    <tr>\n",
       "      <th>0</th>\n",
       "      <td>0</td>\n",
       "      <td>` apple pan the '</td>\n",
       "      <td>' 10801 w. pico blvd. '</td>\n",
       "      <td>` west la '</td>\n",
       "      <td>310-475-3585</td>\n",
       "      <td>american</td>\n",
       "      <td>534</td>\n",
       "    </tr>\n",
       "    <tr>\n",
       "      <th>1</th>\n",
       "      <td>1</td>\n",
       "      <td>` asahi ramen '</td>\n",
       "      <td>' 2027 sawtelle blvd. '</td>\n",
       "      <td>` west la '</td>\n",
       "      <td>310-479-2231</td>\n",
       "      <td>` noodle shops '</td>\n",
       "      <td>535</td>\n",
       "    </tr>\n",
       "    <tr>\n",
       "      <th>2</th>\n",
       "      <td>2</td>\n",
       "      <td>` baja fresh '</td>\n",
       "      <td>' 3345 kimber dr. '</td>\n",
       "      <td>` westlake village '</td>\n",
       "      <td>805-498-4049</td>\n",
       "      <td>mexican</td>\n",
       "      <td>536</td>\n",
       "    </tr>\n",
       "    <tr>\n",
       "      <th>3</th>\n",
       "      <td>3</td>\n",
       "      <td>` belvedere the '</td>\n",
       "      <td>' 9882 little santa monica blvd. '</td>\n",
       "      <td>` beverly hills '</td>\n",
       "      <td>310-788-2306</td>\n",
       "      <td>` pacific new wave '</td>\n",
       "      <td>537</td>\n",
       "    </tr>\n",
       "    <tr>\n",
       "      <th>4</th>\n",
       "      <td>4</td>\n",
       "      <td>` benita \\ 's frites '</td>\n",
       "      <td>' 1433 third st. promenade '</td>\n",
       "      <td>` santa monica '</td>\n",
       "      <td>310-458-2889</td>\n",
       "      <td>` fast food '</td>\n",
       "      <td>538</td>\n",
       "    </tr>\n",
       "  </tbody>\n",
       "</table>\n",
       "</div>"
      ],
      "text/plain": [
       "   id                    name                                addr  \\\n",
       "0   0       ` apple pan the '             ' 10801 w. pico blvd. '   \n",
       "1   1         ` asahi ramen '             ' 2027 sawtelle blvd. '   \n",
       "2   2          ` baja fresh '                 ' 3345 kimber dr. '   \n",
       "3   3       ` belvedere the '  ' 9882 little santa monica blvd. '   \n",
       "4   4  ` benita \\ 's frites '        ' 1433 third st. promenade '   \n",
       "\n",
       "                   city         phone                  type  class  \n",
       "0           ` west la '  310-475-3585              american    534  \n",
       "1           ` west la '  310-479-2231      ` noodle shops '    535  \n",
       "2  ` westlake village '  805-498-4049               mexican    536  \n",
       "3     ` beverly hills '  310-788-2306  ` pacific new wave '    537  \n",
       "4      ` santa monica '  310-458-2889         ` fast food '    538  "
      ]
     },
     "execution_count": 24,
     "metadata": {},
     "output_type": "execute_result"
    }
   ],
   "source": [
    "f2 = '../pipeline/experiments/fodors-zagats/exp_data/tableB.csv'\n",
    "df2 = pd.read_csv(f2, encoding='utf-8')\n",
    "print(df2.shape)\n",
    "df2.head(5)"
   ]
  },
  {
   "cell_type": "markdown",
   "metadata": {},
   "source": [
    "#### Setting the Data Preprocessing parameters for the basic case"
   ]
  },
  {
   "cell_type": "code",
   "execution_count": 29,
   "metadata": {},
   "outputs": [
    {
     "name": "stdout",
     "output_type": "stream",
     "text": [
      "id,city,name,type,class,phone,addr\n"
     ]
    }
   ],
   "source": [
    "parameters = {\n",
    "    'output_file': 'fodors-zagats',\n",
    "    'concatenate': 'outer',\n",
    "    'missing_value': 'nan,ukn,none,unknown,',\n",
    "    'missing_value_strategy': '',\n",
    "    'round_number': 0,\n",
    "    'round_columns': 'price',\n",
    "    'expand_columns': ','.join(list(set(df1.columns))),\n",
    "    'auto_merge': False,\n",
    "    'tokenize_shared': False \n",
    "}\n",
    "print(parameters['expand_columns'])"
   ]
  },
  {
   "cell_type": "code",
   "execution_count": 30,
   "metadata": {},
   "outputs": [],
   "source": [
    "df_c = dp.data_preprocessing([df1, df2], parameters)\n",
    "\n",
    "df_c.shape\n",
    "\n",
    "df_c = df_c.drop('id', axis=1)"
   ]
  },
  {
   "cell_type": "markdown",
   "metadata": {},
   "source": [
    "#### Write the master dataset on file"
   ]
  },
  {
   "cell_type": "code",
   "execution_count": 31,
   "metadata": {},
   "outputs": [],
   "source": [
    "df_c.to_csv('../pipeline/datasets/fodors_zagats/fodors_zagats-master.csv', index=False)\n",
    "\n",
    "dp.write_info_file([df1, df2], 'info-fodors_zagats', [f1,f2])"
   ]
  },
  {
   "cell_type": "markdown",
   "metadata": {},
   "source": [
    "#### Setting the Data Preprocessing parameters for the heuristic"
   ]
  },
  {
   "cell_type": "code",
   "execution_count": 5,
   "metadata": {},
   "outputs": [],
   "source": [
    "parameters = {\n",
    "    'output_file': 'fodors-zagats',\n",
    "    'concatenate': 'outer',\n",
    "    'missing_value': 'nan,ukn,none,unknown,',\n",
    "    'missing_value_strategy': '',\n",
    "    'round_number': 0,\n",
    "    'round_columns': 'price',\n",
    "    'auto_merge': False,\n",
    "    'tokenize_shared': True \n",
    "}\n",
    "\n",
    "df_c = dp.data_preprocessing([df1, df2], parameters)\n",
    "\n",
    "df_c.shape\n",
    "\n",
    "df_c = df_c.drop('id', axis=1)"
   ]
  },
  {
   "cell_type": "markdown",
   "metadata": {},
   "source": [
    "#### Write the heuristic dataset on file"
   ]
  },
  {
   "cell_type": "code",
   "execution_count": 21,
   "metadata": {},
   "outputs": [],
   "source": [
    "df_c.to_csv('../pipeline/datasets/fodors_zagats/fodors_zagats-heuristic.csv', index=False)"
   ]
  },
  {
   "cell_type": "markdown",
   "metadata": {},
   "source": [
    "#### Prepare the match file"
   ]
  },
  {
   "cell_type": "code",
   "execution_count": 8,
   "metadata": {},
   "outputs": [
    {
     "name": "stdout",
     "output_type": "stream",
     "text": [
      "test.csv\n",
      "File test.csv: 22 matches.\n",
      "train.csv\n",
      "File train.csv: 66 matches.\n",
      "valid.csv\n",
      "File valid.csv: 22 matches.\n",
      "Total matches: 110\n"
     ]
    }
   ],
   "source": [
    "import os\n",
    "import os.path\n",
    "\n",
    "tot_m = 0\n",
    "dir_path = '../pipeline/experiments/fodors-zagats/exp_data/'\n",
    "with open('../pipeline/matches/matches-fodors_zagats.txt', 'w') as fo:\n",
    "    for file in os.listdir(dir_path):\n",
    "        if file not in [os.path.basename(_) for _ in [f1, f2]]:        \n",
    "            print(file)\n",
    "            m = 0\n",
    "            with open(dir_path + file, 'r') as fp:\n",
    "                for idx, line in enumerate(fp):\n",
    "                    m1, m2, flag = line.rstrip().rsplit(',')\n",
    "                    if flag == '1':\n",
    "                        s = 'idx_{0},idx_{1}\\n'.format(m1, str(int(m2) + len(df1)))\n",
    "                        fo.write(s)\n",
    "                        m+=1\n",
    "            print('File {}: {} matches.'.format(file, m))\n",
    "            tot_m+=m\n",
    "print('Total matches: {}'.format(tot_m))"
   ]
  },
  {
   "cell_type": "code",
   "execution_count": 9,
   "metadata": {},
   "outputs": [],
   "source": [
    "df_p = df_c.copy()"
   ]
  },
  {
   "cell_type": "markdown",
   "metadata": {},
   "source": [
    "### Prepare basic config file"
   ]
  },
  {
   "cell_type": "code",
   "execution_count": 15,
   "metadata": {},
   "outputs": [],
   "source": [
    "pars = '''smoothing_method:no\n",
    "window_size:3\n",
    "n_dimensions:300\n",
    "sentence_length:60\n",
    "walks_strategy:basic\n",
    "ntop:10\n",
    "ncand:1\n",
    "max_rank:3\n",
    "learning_method:skipgram\n",
    "training_algorithm:word2vec\n",
    "n_sentences:default\n",
    "experiment_type:ER\n",
    "task:train-test\n",
    "with_cid:all\n",
    "with_rid:first\n",
    "numeric:no\n",
    "backtrack:True\n",
    "match_file:\n",
    "write_walks:True\n",
    "output_file:\n",
    "input_file:\n",
    "dataset_info:\n",
    "test_dir:\n",
    "flatten:false\n",
    "embeddings_file:\n",
    "intersection:true'''.split('\\n')\n",
    "\n",
    "parameters = {_.split(':')[0]: _.split(':')[1] for _ in pars}"
   ]
  },
  {
   "cell_type": "code",
   "execution_count": 16,
   "metadata": {},
   "outputs": [],
   "source": [
    "parameters['input_file'] = 'pipeline/datasets/fodors_zagats/{}'.format('fodors_zagats-heuristic.csv')\n",
    "parameters['match_file'] = 'pipeline/matches/matches-{}'.format('fodors_zagats.txt')\n",
    "parameters['dataset_info'] = 'pipeline/info/info-{}'.format('fodors_zagats')"
   ]
  },
  {
   "cell_type": "code",
   "execution_count": 17,
   "metadata": {},
   "outputs": [],
   "source": [
    "with open('../pipeline/config_files/fodors_zagats/fodors_zagats-ER-noflatten-int', 'w') as fp:\n",
    "    for k,v in parameters.items():\n",
    "        s = '{}:{}\\n'.format(k,v)\n",
    "        fp.write(s)"
   ]
  },
  {
   "cell_type": "code",
   "execution_count": null,
   "metadata": {},
   "outputs": [],
   "source": []
  }
 ],
 "metadata": {
  "kernelspec": {
   "display_name": "PyCharm (EmbDI)",
   "language": "python",
   "name": "pycharm-f75c726a"
  },
  "language_info": {
   "codemirror_mode": {
    "name": "ipython",
    "version": 3
   },
   "file_extension": ".py",
   "mimetype": "text/x-python",
   "name": "python",
   "nbconvert_exporter": "python",
   "pygments_lexer": "ipython3",
   "version": "3.7.3"
  }
 },
 "nbformat": 4,
 "nbformat_minor": 4
}
