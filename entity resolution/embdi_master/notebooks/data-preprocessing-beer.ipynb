{
 "cells": [
  {
   "cell_type": "code",
   "execution_count": 2,
   "metadata": {
    "pycharm": {
     "is_executing": false
    }
   },
   "outputs": [],
   "source": [
    "import pandas as pd\n",
    "import numpy as np\n",
    "import hashlib\n",
    "import re\n",
    "import random as rd\n",
    "import datetime\n",
    "from datasketch import MinHash, MinHashLSH, MinHashLSHForest\n",
    "from similarity.levenshtein import Levenshtein\n",
    "from similarity.normalized_levenshtein import NormalizedLevenshtein\n",
    "\n",
    "import sys\n",
    "sys.path.append('../')\n",
    "\n",
    "from collections import Counter\n",
    "import matplotlib.pyplot as plt"
   ]
  },
  {
   "cell_type": "code",
   "execution_count": 3,
   "metadata": {},
   "outputs": [
    {
     "name": "stderr",
     "output_type": "stream",
     "text": [
      "[nltk_data] Downloading package stopwords to\n",
      "[nltk_data]     /home/spoutnik23/nltk_data...\n",
      "[nltk_data]   Package stopwords is already up-to-date!\n"
     ]
    }
   ],
   "source": [
    "from importlib import reload\n",
    "import EmbDI.data_preprocessing as dp"
   ]
  },
  {
   "cell_type": "code",
   "execution_count": 4,
   "metadata": {},
   "outputs": [
    {
     "name": "stderr",
     "output_type": "stream",
     "text": [
      "[nltk_data] Downloading package stopwords to\n",
      "[nltk_data]     /home/spoutnik23/nltk_data...\n",
      "[nltk_data]   Package stopwords is already up-to-date!\n"
     ]
    },
    {
     "data": {
      "text/plain": [
       "<module 'EmbDI.data_preprocessing' from '../EmbDI/data_preprocessing.py'>"
      ]
     },
     "execution_count": 4,
     "metadata": {},
     "output_type": "execute_result"
    }
   ],
   "source": [
    "reload(dp)"
   ]
  },
  {
   "cell_type": "markdown",
   "metadata": {},
   "source": [
    "#### Loading the first dataset"
   ]
  },
  {
   "cell_type": "code",
   "execution_count": 6,
   "metadata": {},
   "outputs": [
    {
     "data": {
      "text/html": [
       "<div>\n",
       "<style scoped>\n",
       "    .dataframe tbody tr th:only-of-type {\n",
       "        vertical-align: middle;\n",
       "    }\n",
       "\n",
       "    .dataframe tbody tr th {\n",
       "        vertical-align: top;\n",
       "    }\n",
       "\n",
       "    .dataframe thead th {\n",
       "        text-align: right;\n",
       "    }\n",
       "</style>\n",
       "<table border=\"1\" class=\"dataframe\">\n",
       "  <thead>\n",
       "    <tr style=\"text-align: right;\">\n",
       "      <th></th>\n",
       "      <th>id</th>\n",
       "      <th>Beer_Name</th>\n",
       "      <th>Brew_Factory_Name</th>\n",
       "      <th>Style</th>\n",
       "      <th>ABV</th>\n",
       "    </tr>\n",
       "  </thead>\n",
       "  <tbody>\n",
       "    <tr>\n",
       "      <th>0</th>\n",
       "      <td>0</td>\n",
       "      <td>TrÃ ¶ egs Nugget Nectar</td>\n",
       "      <td>TrÃ ¶ egs Brewing Company</td>\n",
       "      <td>American Amber / Red Ale</td>\n",
       "      <td>7.50 %</td>\n",
       "    </tr>\n",
       "    <tr>\n",
       "      <th>1</th>\n",
       "      <td>1</td>\n",
       "      <td>Fat Tire Amber Ale</td>\n",
       "      <td>New Belgium Brewing</td>\n",
       "      <td>American Amber / Red Ale</td>\n",
       "      <td>5.20 %</td>\n",
       "    </tr>\n",
       "    <tr>\n",
       "      <th>2</th>\n",
       "      <td>2</td>\n",
       "      <td>Levitation Ale</td>\n",
       "      <td>Stone Brewing Co. .</td>\n",
       "      <td>American Amber / Red Ale</td>\n",
       "      <td>4.40 %</td>\n",
       "    </tr>\n",
       "    <tr>\n",
       "      <th>3</th>\n",
       "      <td>3</td>\n",
       "      <td>Green Flash Hop Head Red Ale</td>\n",
       "      <td>Green Flash Brewing Co. .</td>\n",
       "      <td>American Amber / Red Ale</td>\n",
       "      <td>8.10 %</td>\n",
       "    </tr>\n",
       "    <tr>\n",
       "      <th>4</th>\n",
       "      <td>4</td>\n",
       "      <td>TrÃ ¶ egs Hopback Amber Ale</td>\n",
       "      <td>TrÃ ¶ egs Brewing Company</td>\n",
       "      <td>American Amber / Red Ale</td>\n",
       "      <td>6.00 %</td>\n",
       "    </tr>\n",
       "    <tr>\n",
       "      <th>...</th>\n",
       "      <td>...</td>\n",
       "      <td>...</td>\n",
       "      <td>...</td>\n",
       "      <td>...</td>\n",
       "      <td>...</td>\n",
       "    </tr>\n",
       "    <tr>\n",
       "      <th>4340</th>\n",
       "      <td>4340</td>\n",
       "      <td>Nonstop Forever</td>\n",
       "      <td>The Brew Gentlemen Beer Co. .</td>\n",
       "      <td>American Barleywine</td>\n",
       "      <td>9.00 %</td>\n",
       "    </tr>\n",
       "    <tr>\n",
       "      <th>4341</th>\n",
       "      <td>4341</td>\n",
       "      <td>Old Familiar Barleywine</td>\n",
       "      <td>Carolina Brewery</td>\n",
       "      <td>American Barleywine</td>\n",
       "      <td>8.30 %</td>\n",
       "    </tr>\n",
       "    <tr>\n",
       "      <th>4342</th>\n",
       "      <td>4342</td>\n",
       "      <td>Little Willie Barleywine</td>\n",
       "      <td>The Blue Ridge Brewing Co. .</td>\n",
       "      <td>American Barleywine</td>\n",
       "      <td>11.50 %</td>\n",
       "    </tr>\n",
       "    <tr>\n",
       "      <th>4343</th>\n",
       "      <td>4343</td>\n",
       "      <td>Olde Reliable</td>\n",
       "      <td>Laurelwood Public House &amp; Brewery</td>\n",
       "      <td>American Barleywine</td>\n",
       "      <td>10.00 %</td>\n",
       "    </tr>\n",
       "    <tr>\n",
       "      <th>4344</th>\n",
       "      <td>4344</td>\n",
       "      <td>Bourbon Barrel Barleywine</td>\n",
       "      <td>Great Basin Brewing Co. .</td>\n",
       "      <td>American Barleywine</td>\n",
       "      <td>13.00 %</td>\n",
       "    </tr>\n",
       "  </tbody>\n",
       "</table>\n",
       "<p>4345 rows × 5 columns</p>\n",
       "</div>"
      ],
      "text/plain": [
       "        id                     Beer_Name                  Brew_Factory_Name  \\\n",
       "0        0       TrÃ ¶ egs Nugget Nectar          TrÃ ¶ egs Brewing Company   \n",
       "1        1            Fat Tire Amber Ale                New Belgium Brewing   \n",
       "2        2                Levitation Ale                Stone Brewing Co. .   \n",
       "3        3  Green Flash Hop Head Red Ale          Green Flash Brewing Co. .   \n",
       "4        4   TrÃ ¶ egs Hopback Amber Ale          TrÃ ¶ egs Brewing Company   \n",
       "...    ...                           ...                                ...   \n",
       "4340  4340               Nonstop Forever      The Brew Gentlemen Beer Co. .   \n",
       "4341  4341       Old Familiar Barleywine                   Carolina Brewery   \n",
       "4342  4342      Little Willie Barleywine       The Blue Ridge Brewing Co. .   \n",
       "4343  4343                 Olde Reliable  Laurelwood Public House & Brewery   \n",
       "4344  4344     Bourbon Barrel Barleywine          Great Basin Brewing Co. .   \n",
       "\n",
       "                         Style      ABV  \n",
       "0     American Amber / Red Ale   7.50 %  \n",
       "1     American Amber / Red Ale   5.20 %  \n",
       "2     American Amber / Red Ale   4.40 %  \n",
       "3     American Amber / Red Ale   8.10 %  \n",
       "4     American Amber / Red Ale   6.00 %  \n",
       "...                        ...      ...  \n",
       "4340       American Barleywine   9.00 %  \n",
       "4341       American Barleywine   8.30 %  \n",
       "4342       American Barleywine  11.50 %  \n",
       "4343       American Barleywine  10.00 %  \n",
       "4344       American Barleywine  13.00 %  \n",
       "\n",
       "[4345 rows x 5 columns]"
      ]
     },
     "execution_count": 6,
     "metadata": {},
     "output_type": "execute_result"
    }
   ],
   "source": [
    "df1"
   ]
  },
  {
   "cell_type": "code",
   "execution_count": 5,
   "metadata": {
    "pycharm": {
     "is_executing": false
    }
   },
   "outputs": [
    {
     "name": "stdout",
     "output_type": "stream",
     "text": [
      "(4345, 5)\n"
     ]
    },
    {
     "data": {
      "text/html": [
       "<div>\n",
       "<style scoped>\n",
       "    .dataframe tbody tr th:only-of-type {\n",
       "        vertical-align: middle;\n",
       "    }\n",
       "\n",
       "    .dataframe tbody tr th {\n",
       "        vertical-align: top;\n",
       "    }\n",
       "\n",
       "    .dataframe thead th {\n",
       "        text-align: right;\n",
       "    }\n",
       "</style>\n",
       "<table border=\"1\" class=\"dataframe\">\n",
       "  <thead>\n",
       "    <tr style=\"text-align: right;\">\n",
       "      <th></th>\n",
       "      <th>id</th>\n",
       "      <th>Beer_Name</th>\n",
       "      <th>Brew_Factory_Name</th>\n",
       "      <th>Style</th>\n",
       "      <th>ABV</th>\n",
       "    </tr>\n",
       "  </thead>\n",
       "  <tbody>\n",
       "    <tr>\n",
       "      <th>0</th>\n",
       "      <td>0</td>\n",
       "      <td>TrÃ ¶ egs Nugget Nectar</td>\n",
       "      <td>TrÃ ¶ egs Brewing Company</td>\n",
       "      <td>American Amber / Red Ale</td>\n",
       "      <td>7.50 %</td>\n",
       "    </tr>\n",
       "    <tr>\n",
       "      <th>1</th>\n",
       "      <td>1</td>\n",
       "      <td>Fat Tire Amber Ale</td>\n",
       "      <td>New Belgium Brewing</td>\n",
       "      <td>American Amber / Red Ale</td>\n",
       "      <td>5.20 %</td>\n",
       "    </tr>\n",
       "    <tr>\n",
       "      <th>2</th>\n",
       "      <td>2</td>\n",
       "      <td>Levitation Ale</td>\n",
       "      <td>Stone Brewing Co. .</td>\n",
       "      <td>American Amber / Red Ale</td>\n",
       "      <td>4.40 %</td>\n",
       "    </tr>\n",
       "    <tr>\n",
       "      <th>3</th>\n",
       "      <td>3</td>\n",
       "      <td>Green Flash Hop Head Red Ale</td>\n",
       "      <td>Green Flash Brewing Co. .</td>\n",
       "      <td>American Amber / Red Ale</td>\n",
       "      <td>8.10 %</td>\n",
       "    </tr>\n",
       "    <tr>\n",
       "      <th>4</th>\n",
       "      <td>4</td>\n",
       "      <td>TrÃ ¶ egs Hopback Amber Ale</td>\n",
       "      <td>TrÃ ¶ egs Brewing Company</td>\n",
       "      <td>American Amber / Red Ale</td>\n",
       "      <td>6.00 %</td>\n",
       "    </tr>\n",
       "  </tbody>\n",
       "</table>\n",
       "</div>"
      ],
      "text/plain": [
       "   id                     Beer_Name          Brew_Factory_Name  \\\n",
       "0   0       TrÃ ¶ egs Nugget Nectar  TrÃ ¶ egs Brewing Company   \n",
       "1   1            Fat Tire Amber Ale        New Belgium Brewing   \n",
       "2   2                Levitation Ale        Stone Brewing Co. .   \n",
       "3   3  Green Flash Hop Head Red Ale  Green Flash Brewing Co. .   \n",
       "4   4   TrÃ ¶ egs Hopback Amber Ale  TrÃ ¶ egs Brewing Company   \n",
       "\n",
       "                      Style     ABV  \n",
       "0  American Amber / Red Ale  7.50 %  \n",
       "1  American Amber / Red Ale  5.20 %  \n",
       "2  American Amber / Red Ale  4.40 %  \n",
       "3  American Amber / Red Ale  8.10 %  \n",
       "4  American Amber / Red Ale  6.00 %  "
      ]
     },
     "execution_count": 5,
     "metadata": {},
     "output_type": "execute_result"
    }
   ],
   "source": [
    "f1 = 'pipeline/experiments/beer/exp_data/tableA.csv'\n",
    "df1 = pd.read_csv('../' + f1, encoding='utf-8')\n",
    "print(df1.shape)\n",
    "df1.head(5)"
   ]
  },
  {
   "cell_type": "markdown",
   "metadata": {},
   "source": [
    "#### Loading the second dataset"
   ]
  },
  {
   "cell_type": "code",
   "execution_count": 5,
   "metadata": {
    "pycharm": {
     "is_executing": false
    }
   },
   "outputs": [
    {
     "name": "stdout",
     "output_type": "stream",
     "text": [
      "(3000, 5)\n"
     ]
    },
    {
     "data": {
      "text/html": [
       "<div>\n",
       "<style scoped>\n",
       "    .dataframe tbody tr th:only-of-type {\n",
       "        vertical-align: middle;\n",
       "    }\n",
       "\n",
       "    .dataframe tbody tr th {\n",
       "        vertical-align: top;\n",
       "    }\n",
       "\n",
       "    .dataframe thead th {\n",
       "        text-align: right;\n",
       "    }\n",
       "</style>\n",
       "<table border=\"1\" class=\"dataframe\">\n",
       "  <thead>\n",
       "    <tr style=\"text-align: right;\">\n",
       "      <th></th>\n",
       "      <th>id</th>\n",
       "      <th>Beer_Name</th>\n",
       "      <th>Brew_Factory_Name</th>\n",
       "      <th>Style</th>\n",
       "      <th>ABV</th>\n",
       "    </tr>\n",
       "  </thead>\n",
       "  <tbody>\n",
       "    <tr>\n",
       "      <th>0</th>\n",
       "      <td>0</td>\n",
       "      <td>Great Lakes Nosferatu</td>\n",
       "      <td>Great Lakes Brewing &amp;#40; Ohio &amp;#41;</td>\n",
       "      <td>American Strong Ale</td>\n",
       "      <td>8 %</td>\n",
       "    </tr>\n",
       "    <tr>\n",
       "      <th>1</th>\n",
       "      <td>1</td>\n",
       "      <td>4 Hands Reprise Centennial Red Ale</td>\n",
       "      <td>4 Hands Brewing Company</td>\n",
       "      <td>Amber Ale</td>\n",
       "      <td>6 %</td>\n",
       "    </tr>\n",
       "    <tr>\n",
       "      <th>2</th>\n",
       "      <td>2</td>\n",
       "      <td>10 Barrel Backdraft IPA</td>\n",
       "      <td>10 Barrel Brewing &amp;#40; AB InBev &amp;#41;</td>\n",
       "      <td>India Pale Ale &amp;#40; IPA &amp;#41;</td>\n",
       "      <td>6.50 %</td>\n",
       "    </tr>\n",
       "    <tr>\n",
       "      <th>3</th>\n",
       "      <td>3</td>\n",
       "      <td>Gore Range Fly Fisher Red Ale</td>\n",
       "      <td>Gore Range Brewery</td>\n",
       "      <td>Amber Ale</td>\n",
       "      <td>-</td>\n",
       "    </tr>\n",
       "    <tr>\n",
       "      <th>4</th>\n",
       "      <td>4</td>\n",
       "      <td>Naked Dove Nice &amp; Naughty Christmas Ale</td>\n",
       "      <td>Naked Dove Brewing</td>\n",
       "      <td>Stout</td>\n",
       "      <td>5.50 %</td>\n",
       "    </tr>\n",
       "  </tbody>\n",
       "</table>\n",
       "</div>"
      ],
      "text/plain": [
       "   id                                Beer_Name  \\\n",
       "0   0                    Great Lakes Nosferatu   \n",
       "1   1       4 Hands Reprise Centennial Red Ale   \n",
       "2   2                  10 Barrel Backdraft IPA   \n",
       "3   3            Gore Range Fly Fisher Red Ale   \n",
       "4   4  Naked Dove Nice & Naughty Christmas Ale   \n",
       "\n",
       "                        Brew_Factory_Name                           Style  \\\n",
       "0    Great Lakes Brewing &#40; Ohio &#41;             American Strong Ale   \n",
       "1                 4 Hands Brewing Company                       Amber Ale   \n",
       "2  10 Barrel Brewing &#40; AB InBev &#41;  India Pale Ale &#40; IPA &#41;   \n",
       "3                      Gore Range Brewery                       Amber Ale   \n",
       "4                      Naked Dove Brewing                           Stout   \n",
       "\n",
       "      ABV  \n",
       "0     8 %  \n",
       "1     6 %  \n",
       "2  6.50 %  \n",
       "3       -  \n",
       "4  5.50 %  "
      ]
     },
     "execution_count": 5,
     "metadata": {},
     "output_type": "execute_result"
    }
   ],
   "source": [
    "f2 = 'pipeline/experiments/beer/exp_data/tableB.csv'\n",
    "df2 = pd.read_csv('../' + f2, encoding='utf-8')\n",
    "print(df2.shape)\n",
    "df2.head(5)"
   ]
  },
  {
   "cell_type": "markdown",
   "metadata": {},
   "source": [
    "#### Setting the Data Preprocessing parameters"
   ]
  },
  {
   "cell_type": "code",
   "execution_count": 66,
   "metadata": {
    "pycharm": {
     "is_executing": false
    }
   },
   "outputs": [],
   "source": [
    "parameters = {\n",
    "    'output_file': 'beer-master',\n",
    "    'concatenate': 'outer',\n",
    "    'missing_value': 'nan,ukn,none,unknown,-,',\n",
    "    'missing_value_strategy': '',\n",
    "    'round_number': 1,\n",
    "    'round_columns': 'abv',\n",
    "    'auto_merge': False,\n",
    "    'split_columns': '',\n",
    "    'expand_columns': 'beer_name,style,brew_factory_name',\n",
    "    'split_delimiter': '/'\n",
    "}\n"
   ]
  },
  {
   "cell_type": "code",
   "execution_count": 67,
   "metadata": {
    "pycharm": {
     "is_executing": false
    }
   },
   "outputs": [
    {
     "name": "stdout",
     "output_type": "stream",
     "text": [
      "(7345, 5)\n"
     ]
    }
   ],
   "source": [
    "df_c = dp.data_preprocessing([df1, df2], parameters)\n",
    "\n",
    "print(df_c.shape)\n",
    "\n",
    "df_c = df_c.drop('id', axis=1)"
   ]
  },
  {
   "cell_type": "code",
   "execution_count": 68,
   "metadata": {},
   "outputs": [
    {
     "data": {
      "text/html": [
       "<div>\n",
       "<style scoped>\n",
       "    .dataframe tbody tr th:only-of-type {\n",
       "        vertical-align: middle;\n",
       "    }\n",
       "\n",
       "    .dataframe tbody tr th {\n",
       "        vertical-align: top;\n",
       "    }\n",
       "\n",
       "    .dataframe thead th {\n",
       "        text-align: right;\n",
       "    }\n",
       "</style>\n",
       "<table border=\"1\" class=\"dataframe\">\n",
       "  <thead>\n",
       "    <tr style=\"text-align: right;\">\n",
       "      <th></th>\n",
       "      <th>beer_name</th>\n",
       "      <th>brew_factory_name</th>\n",
       "      <th>style</th>\n",
       "      <th>abv</th>\n",
       "    </tr>\n",
       "  </thead>\n",
       "  <tbody>\n",
       "    <tr>\n",
       "      <th>0</th>\n",
       "      <td>tr_egs_nugget_nectar</td>\n",
       "      <td>tr_egs_brewing_company</td>\n",
       "      <td>american_amber_red_ale</td>\n",
       "      <td>7.5</td>\n",
       "    </tr>\n",
       "    <tr>\n",
       "      <th>1</th>\n",
       "      <td>fat_tire_amber_ale</td>\n",
       "      <td>new_belgium_brewing</td>\n",
       "      <td>american_amber_red_ale</td>\n",
       "      <td>5.2</td>\n",
       "    </tr>\n",
       "    <tr>\n",
       "      <th>2</th>\n",
       "      <td>levitation_ale</td>\n",
       "      <td>stone_brewing_co</td>\n",
       "      <td>american_amber_red_ale</td>\n",
       "      <td>4.4</td>\n",
       "    </tr>\n",
       "    <tr>\n",
       "      <th>3</th>\n",
       "      <td>green_flash_hop_head_red_ale</td>\n",
       "      <td>green_flash_brewing_co</td>\n",
       "      <td>american_amber_red_ale</td>\n",
       "      <td>8.1</td>\n",
       "    </tr>\n",
       "    <tr>\n",
       "      <th>4</th>\n",
       "      <td>tr_egs_hopback_amber_ale</td>\n",
       "      <td>tr_egs_brewing_company</td>\n",
       "      <td>american_amber_red_ale</td>\n",
       "      <td>6</td>\n",
       "    </tr>\n",
       "  </tbody>\n",
       "</table>\n",
       "</div>"
      ],
      "text/plain": [
       "                      beer_name       brew_factory_name  \\\n",
       "0          tr_egs_nugget_nectar  tr_egs_brewing_company   \n",
       "1            fat_tire_amber_ale     new_belgium_brewing   \n",
       "2                levitation_ale        stone_brewing_co   \n",
       "3  green_flash_hop_head_red_ale  green_flash_brewing_co   \n",
       "4      tr_egs_hopback_amber_ale  tr_egs_brewing_company   \n",
       "\n",
       "                    style  abv  \n",
       "0  american_amber_red_ale  7.5  \n",
       "1  american_amber_red_ale  5.2  \n",
       "2  american_amber_red_ale  4.4  \n",
       "3  american_amber_red_ale  8.1  \n",
       "4  american_amber_red_ale    6  "
      ]
     },
     "execution_count": 68,
     "metadata": {},
     "output_type": "execute_result"
    }
   ],
   "source": [
    "df_c.head()"
   ]
  },
  {
   "cell_type": "markdown",
   "metadata": {},
   "source": [
    "#### Generating the schema matching dataset in the heuristic case. "
   ]
  },
  {
   "cell_type": "code",
   "execution_count": 6,
   "metadata": {},
   "outputs": [
    {
     "name": "stderr",
     "output_type": "stream",
     "text": [
      "../EmbDI/data_preprocessing.py:120: UserWarning: Column abv is marked to be rounded, but it contains non-numeric characters.\n",
      "  warnings.warn('Column {} is marked to be rounded, but it contains non-numeric characters.'.format(c))\n"
     ]
    }
   ],
   "source": [
    "parameters = {\n",
    "    'output_file': 'beer',\n",
    "    'concatenate': 'horizon',\n",
    "    'missing_value': 'nan,ukn,none,unknown,',\n",
    "    'missing_value_strategy': '',\n",
    "    'round_number': 1,\n",
    "    'round_columns': 'abv',\n",
    "    'auto_merge': False,\n",
    "    'tokenize_shared': True \n",
    "}\n",
    "\n",
    "df_c = dp.data_preprocessing([df1.drop('id', axis=1), df2.drop('id', axis=1)], parameters)\n",
    "# df_c = df_c.drop('id', axis=1)\n",
    "df_c.to_csv('../pipeline/datasets/beer/beer-heuristic-sm.csv', index=False)"
   ]
  },
  {
   "cell_type": "markdown",
   "metadata": {},
   "source": [
    "#### Generating the schema matching dataset in the basic case. "
   ]
  },
  {
   "cell_type": "code",
   "execution_count": 12,
   "metadata": {},
   "outputs": [
    {
     "name": "stderr",
     "output_type": "stream",
     "text": [
      "../EmbDI/data_preprocessing.py:117: UserWarning: Column abv is marked to be rounded, but it contains non-numeric characters.\n",
      "  warnings.warn('Column {} is marked to be rounded, but it contains non-numeric characters.'.format(c))\n"
     ]
    }
   ],
   "source": [
    "parameters = {\n",
    "    'output_file': 'beer',\n",
    "    'concatenate': 'horizon',\n",
    "    'missing_value': 'nan,ukn,none,unknown,',\n",
    "    'missing_value_strategy': '',\n",
    "    'round_number': 1,\n",
    "    'round_columns': 'abv',\n",
    "    'auto_merge': False,\n",
    "    'tokenize_shared': False \n",
    "}\n",
    "\n",
    "df_c = dp.data_preprocessing([df1.drop('id', axis=1), df2.drop('id', axis=1)], parameters)\n",
    "# df_c = df_c.drop('id', axis=1)\n",
    "df_c.to_csv('../pipeline/datasets/beer/beer-master-sm.csv', index=False)"
   ]
  },
  {
   "cell_type": "code",
   "execution_count": 11,
   "metadata": {},
   "outputs": [
    {
     "name": "stdout",
     "output_type": "stream",
     "text": [
      "0_abv,1_abv\n",
      "0_beer_name,1_beer_name\n",
      "0_brew_factory_name,1_brew_factory_name\n",
      "0_style,1_style\n"
     ]
    }
   ],
   "source": [
    "lcol = len(df_c.columns)//2\n",
    "for _ in range(lcol):\n",
    "    print('{},{}'.format(df_c.columns[_],df_c.columns[_+lcol]))"
   ]
  },
  {
   "cell_type": "markdown",
   "metadata": {},
   "source": [
    "#### Replace similar words, normalized edit distance used as metric"
   ]
  },
  {
   "cell_type": "code",
   "execution_count": 61,
   "metadata": {},
   "outputs": [
    {
     "name": "stdout",
     "output_type": "stream",
     "text": [
      "6340\n"
     ]
    }
   ],
   "source": [
    "words = dp.get_unique_string_values(df_c, 'beer_name', 'word')\n",
    "print(len(words))"
   ]
  },
  {
   "cell_type": "code",
   "execution_count": 62,
   "metadata": {},
   "outputs": [
    {
     "name": "stdout",
     "output_type": "stream",
     "text": [
      "Time taken: 10.298316\n"
     ]
    }
   ],
   "source": [
    "start_time = datetime.datetime.now()\n",
    "lsh = dp.LSHMerge(list(words), 2, .5, 128)\n",
    "replacement = lsh.get_replacement('normalized_edit_distance', 0.15)\n",
    "end_time = datetime.datetime.now()\n",
    "diff = end_time - start_time\n",
    "print('Time taken: {}'.format(diff.total_seconds()))"
   ]
  },
  {
   "cell_type": "code",
   "execution_count": 63,
   "metadata": {},
   "outputs": [
    {
     "data": {
      "text/html": [
       "<div>\n",
       "<style scoped>\n",
       "    .dataframe tbody tr th:only-of-type {\n",
       "        vertical-align: middle;\n",
       "    }\n",
       "\n",
       "    .dataframe tbody tr th {\n",
       "        vertical-align: top;\n",
       "    }\n",
       "\n",
       "    .dataframe thead th {\n",
       "        text-align: right;\n",
       "    }\n",
       "</style>\n",
       "<table border=\"1\" class=\"dataframe\">\n",
       "  <thead>\n",
       "    <tr style=\"text-align: right;\">\n",
       "      <th></th>\n",
       "      <th>beer_name</th>\n",
       "      <th>brew_factory_name</th>\n",
       "      <th>style</th>\n",
       "      <th>abv</th>\n",
       "    </tr>\n",
       "  </thead>\n",
       "  <tbody>\n",
       "    <tr>\n",
       "      <th>0</th>\n",
       "      <td>tr_egs_nugget_nectar</td>\n",
       "      <td>tr_egs_brewing_company</td>\n",
       "      <td>american_amber_red_ale</td>\n",
       "      <td>7.5</td>\n",
       "    </tr>\n",
       "    <tr>\n",
       "      <th>1</th>\n",
       "      <td>NaN</td>\n",
       "      <td>new_belgium_brewing</td>\n",
       "      <td>american_amber_red_ale</td>\n",
       "      <td>5.2</td>\n",
       "    </tr>\n",
       "    <tr>\n",
       "      <th>2</th>\n",
       "      <td>NaN</td>\n",
       "      <td>stone_brewing_co</td>\n",
       "      <td>american_amber_red_ale</td>\n",
       "      <td>4.4</td>\n",
       "    </tr>\n",
       "    <tr>\n",
       "      <th>3</th>\n",
       "      <td>NaN</td>\n",
       "      <td>green_flash_brewing_co</td>\n",
       "      <td>american_amber_red_ale</td>\n",
       "      <td>8.1</td>\n",
       "    </tr>\n",
       "    <tr>\n",
       "      <th>4</th>\n",
       "      <td>NaN</td>\n",
       "      <td>tr_egs_brewing_company</td>\n",
       "      <td>american_amber_red_ale</td>\n",
       "      <td>6</td>\n",
       "    </tr>\n",
       "  </tbody>\n",
       "</table>\n",
       "</div>"
      ],
      "text/plain": [
       "              beer_name       brew_factory_name                   style  abv\n",
       "0  tr_egs_nugget_nectar  tr_egs_brewing_company  american_amber_red_ale  7.5\n",
       "1                   NaN     new_belgium_brewing  american_amber_red_ale  5.2\n",
       "2                   NaN        stone_brewing_co  american_amber_red_ale  4.4\n",
       "3                   NaN  green_flash_brewing_co  american_amber_red_ale  8.1\n",
       "4                   NaN  tr_egs_brewing_company  american_amber_red_ale    6"
      ]
     },
     "execution_count": 63,
     "metadata": {},
     "output_type": "execute_result"
    }
   ],
   "source": [
    "df_c = dp.merge(df_c, replacement, ['beer_name'], 'word')\n",
    "df_c.head()"
   ]
  },
  {
   "cell_type": "markdown",
   "metadata": {},
   "source": [
    "#### Write the master dataset on file"
   ]
  },
  {
   "cell_type": "code",
   "execution_count": 69,
   "metadata": {},
   "outputs": [],
   "source": [
    "df_c.to_csv('../pipeline/datasets/beer-master-updated-test.csv', index=False)"
   ]
  },
  {
   "cell_type": "code",
   "execution_count": 26,
   "metadata": {},
   "outputs": [],
   "source": [
    "dp.write_info_file([df1, df2], 'info-beer.txt', [f1,f2])"
   ]
  },
  {
   "cell_type": "markdown",
   "metadata": {},
   "source": [
    "#### Prepare the match file"
   ]
  },
  {
   "cell_type": "code",
   "execution_count": 28,
   "metadata": {},
   "outputs": [
    {
     "name": "stdout",
     "output_type": "stream",
     "text": [
      "test.csv\n",
      "File test.csv: 14 matches.\n",
      "train.csv\n",
      "File train.csv: 40 matches.\n",
      "valid.csv\n",
      "File valid.csv: 14 matches.\n",
      "Total matches: 68\n"
     ]
    }
   ],
   "source": [
    "import os\n",
    "import os.path\n",
    "\n",
    "tot_m = 0\n",
    "dir_path = '../pipeline/experiments/beer/exp_data/'\n",
    "with open('../pipeline/matches/matches-beer.txt', 'w') as fo:\n",
    "    for file in os.listdir(dir_path):\n",
    "        if file not in [os.path.basename(_) for _ in [f1, f2]]:        \n",
    "            print(file)\n",
    "            m = 0\n",
    "            with open(dir_path + file, 'r') as fp:\n",
    "                for idx, line in enumerate(fp):\n",
    "                    m1, m2, flag = line.rstrip().rsplit(',')\n",
    "                    if flag == '1':\n",
    "                        s = 'idx_{0},idx_{1}\\n'.format(m1, str(int(m2) + len(df1)))\n",
    "                        fo.write(s)\n",
    "                        m+=1\n",
    "            print('File {}: {} matches.'.format(file, m))\n",
    "            tot_m+=m\n",
    "print('Total matches: {}'.format(tot_m))"
   ]
  },
  {
   "cell_type": "code",
   "execution_count": 34,
   "metadata": {},
   "outputs": [],
   "source": [
    "df1_c = dp.data_preprocessing([df1], parameters)\n",
    "\n",
    "df1_c = df1_c.drop('id', axis=1)"
   ]
  },
  {
   "cell_type": "code",
   "execution_count": 36,
   "metadata": {},
   "outputs": [],
   "source": [
    "df2_c = dp.data_preprocessing([df2], parameters)\n",
    "\n",
    "df2_c = df2_c.drop('id', axis=1)"
   ]
  },
  {
   "cell_type": "code",
   "execution_count": 42,
   "metadata": {},
   "outputs": [],
   "source": [
    "l_df1 = set(df1_c.values.ravel())\n",
    "l_df2 = set(df2_c.values.ravel())\n"
   ]
  },
  {
   "cell_type": "code",
   "execution_count": 45,
   "metadata": {},
   "outputs": [],
   "source": [
    "intersect = l_df1.intersection(l_df2)"
   ]
  },
  {
   "cell_type": "code",
   "execution_count": null,
   "metadata": {},
   "outputs": [],
   "source": []
  }
 ],
 "metadata": {
  "kernelspec": {
   "display_name": "PyCharm (EmbDI)",
   "language": "python",
   "name": "pycharm-f75c726a"
  },
  "language_info": {
   "codemirror_mode": {
    "name": "ipython",
    "version": 3
   },
   "file_extension": ".py",
   "mimetype": "text/x-python",
   "name": "python",
   "nbconvert_exporter": "python",
   "pygments_lexer": "ipython3",
   "version": "3.7.3"
  }
 },
 "nbformat": 4,
 "nbformat_minor": 4
}
