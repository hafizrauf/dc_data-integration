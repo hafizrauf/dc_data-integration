{
 "cells": [
  {
   "cell_type": "code",
   "execution_count": 1,
   "metadata": {
    "pycharm": {
     "is_executing": false
    }
   },
   "outputs": [],
   "source": [
    "import pandas as pd\n",
    "import numpy as np\n",
    "import hashlib\n",
    "import re\n",
    "import random as rd\n",
    "import datetime\n",
    "from datasketch import MinHash, MinHashLSH, MinHashLSHForest\n",
    "from similarity.levenshtein import Levenshtein\n",
    "from similarity.normalized_levenshtein import NormalizedLevenshtein\n",
    "\n",
    "import sys\n",
    "sys.path.append('../')\n",
    "\n",
    "from collections import Counter\n",
    "import matplotlib.pyplot as plt"
   ]
  },
  {
   "cell_type": "code",
   "execution_count": 2,
   "metadata": {},
   "outputs": [
    {
     "name": "stderr",
     "output_type": "stream",
     "text": [
      "[nltk_data] Downloading package stopwords to\n",
      "[nltk_data]     /home/spoutnik23/nltk_data...\n",
      "[nltk_data]   Package stopwords is already up-to-date!\n"
     ]
    }
   ],
   "source": [
    "from importlib import reload\n",
    "import EmbDI.data_preprocessing as dp"
   ]
  },
  {
   "cell_type": "code",
   "execution_count": 3,
   "metadata": {},
   "outputs": [
    {
     "name": "stderr",
     "output_type": "stream",
     "text": [
      "[nltk_data] Downloading package stopwords to\n",
      "[nltk_data]     /home/spoutnik23/nltk_data...\n",
      "[nltk_data]   Package stopwords is already up-to-date!\n"
     ]
    },
    {
     "data": {
      "text/plain": [
       "<module 'EmbDI.data_preprocessing' from '../EmbDI/data_preprocessing.py'>"
      ]
     },
     "execution_count": 3,
     "metadata": {},
     "output_type": "execute_result"
    }
   ],
   "source": [
    "reload(dp)"
   ]
  },
  {
   "cell_type": "markdown",
   "metadata": {},
   "source": [
    "#### Loading the first dataset"
   ]
  },
  {
   "cell_type": "code",
   "execution_count": 35,
   "metadata": {
    "pycharm": {
     "is_executing": false
    }
   },
   "outputs": [
    {
     "name": "stdout",
     "output_type": "stream",
     "text": [
      "(6907, 9)\n"
     ]
    },
    {
     "data": {
      "text/html": [
       "<div>\n",
       "<style scoped>\n",
       "    .dataframe tbody tr th:only-of-type {\n",
       "        vertical-align: middle;\n",
       "    }\n",
       "\n",
       "    .dataframe tbody tr th {\n",
       "        vertical-align: top;\n",
       "    }\n",
       "\n",
       "    .dataframe thead th {\n",
       "        text-align: right;\n",
       "    }\n",
       "</style>\n",
       "<table border=\"1\" class=\"dataframe\">\n",
       "  <thead>\n",
       "    <tr style=\"text-align: right;\">\n",
       "      <th></th>\n",
       "      <th>id</th>\n",
       "      <th>Song_Name</th>\n",
       "      <th>Artist_Name</th>\n",
       "      <th>Album_Name</th>\n",
       "      <th>Genre</th>\n",
       "      <th>Price</th>\n",
       "      <th>CopyRight</th>\n",
       "      <th>Time</th>\n",
       "      <th>Released</th>\n",
       "    </tr>\n",
       "  </thead>\n",
       "  <tbody>\n",
       "    <tr>\n",
       "      <th>0</th>\n",
       "      <td>0</td>\n",
       "      <td>Runaway Train</td>\n",
       "      <td>Cam</td>\n",
       "      <td>Welcome to Cam Country - EP</td>\n",
       "      <td>Country , Music , Contemporary Country , Honky...</td>\n",
       "      <td>$ 0.99</td>\n",
       "      <td>2015 Sony Music Entertainment</td>\n",
       "      <td>3:01</td>\n",
       "      <td>31-Mar-15</td>\n",
       "    </tr>\n",
       "    <tr>\n",
       "      <th>1</th>\n",
       "      <td>1</td>\n",
       "      <td>Track 14</td>\n",
       "      <td>Omi</td>\n",
       "      <td>Me 4 U</td>\n",
       "      <td>Pop/Rock , Music , Pop , Dance , R&amp;B / Soul</td>\n",
       "      <td>Album Only</td>\n",
       "      <td>2015 Ultra Records , LLC under exclusive licen...</td>\n",
       "      <td>3:41</td>\n",
       "      <td>NaN</td>\n",
       "    </tr>\n",
       "    <tr>\n",
       "      <th>2</th>\n",
       "      <td>2</td>\n",
       "      <td>Lips Are Movin</td>\n",
       "      <td>Meghan Trainor</td>\n",
       "      <td>Title</td>\n",
       "      <td>Pop , Music , Pop/Rock , Dance , Rock , Teen Pop</td>\n",
       "      <td>$ 1.29</td>\n",
       "      <td>2014 , 2015 Epic Records , a division of Sony ...</td>\n",
       "      <td>3:01</td>\n",
       "      <td>9-Jan-15</td>\n",
       "    </tr>\n",
       "    <tr>\n",
       "      <th>3</th>\n",
       "      <td>3</td>\n",
       "      <td>I Want a Hippopotamus for Christmas</td>\n",
       "      <td>A Great Big World</td>\n",
       "      <td>I 'll Be Home For Christmas</td>\n",
       "      <td>Holiday , Music</td>\n",
       "      <td>$ 1.29</td>\n",
       "      <td>Compilation ( P ) 2014 Epic Records , a divisi...</td>\n",
       "      <td>2:20</td>\n",
       "      <td>24-Nov-14</td>\n",
       "    </tr>\n",
       "    <tr>\n",
       "      <th>4</th>\n",
       "      <td>4</td>\n",
       "      <td>Credit</td>\n",
       "      <td>Meghan Trainor</td>\n",
       "      <td>Title ( Deluxe )</td>\n",
       "      <td>Pop , Music , Rock , Pop/Rock , Dance , Teen Pop</td>\n",
       "      <td>$ 1.29</td>\n",
       "      <td>2014 , 2015 Epic Records , a division of Sony ...</td>\n",
       "      <td>2:51</td>\n",
       "      <td>9-Jan-15</td>\n",
       "    </tr>\n",
       "  </tbody>\n",
       "</table>\n",
       "</div>"
      ],
      "text/plain": [
       "   id                            Song_Name        Artist_Name  \\\n",
       "0   0                        Runaway Train                Cam   \n",
       "1   1                             Track 14                Omi   \n",
       "2   2                       Lips Are Movin     Meghan Trainor   \n",
       "3   3  I Want a Hippopotamus for Christmas  A Great Big World   \n",
       "4   4                               Credit     Meghan Trainor   \n",
       "\n",
       "                    Album_Name  \\\n",
       "0  Welcome to Cam Country - EP   \n",
       "1                       Me 4 U   \n",
       "2                        Title   \n",
       "3  I 'll Be Home For Christmas   \n",
       "4             Title ( Deluxe )   \n",
       "\n",
       "                                               Genre       Price  \\\n",
       "0  Country , Music , Contemporary Country , Honky...      $ 0.99   \n",
       "1        Pop/Rock , Music , Pop , Dance , R&B / Soul  Album Only   \n",
       "2   Pop , Music , Pop/Rock , Dance , Rock , Teen Pop      $ 1.29   \n",
       "3                                    Holiday , Music      $ 1.29   \n",
       "4   Pop , Music , Rock , Pop/Rock , Dance , Teen Pop      $ 1.29   \n",
       "\n",
       "                                           CopyRight  Time   Released  \n",
       "0                      2015 Sony Music Entertainment  3:01  31-Mar-15  \n",
       "1  2015 Ultra Records , LLC under exclusive licen...  3:41        NaN  \n",
       "2  2014 , 2015 Epic Records , a division of Sony ...  3:01   9-Jan-15  \n",
       "3  Compilation ( P ) 2014 Epic Records , a divisi...  2:20  24-Nov-14  \n",
       "4  2014 , 2015 Epic Records , a division of Sony ...  2:51   9-Jan-15  "
      ]
     },
     "execution_count": 35,
     "metadata": {},
     "output_type": "execute_result"
    }
   ],
   "source": [
    "f1 = 'pipeline/experiments/itunes_amazon/exp_data/tableA.csv'\n",
    "df1 = pd.read_csv('../' + f1, encoding='utf-8')\n",
    "print(df1.shape)\n",
    "df1.head(5)"
   ]
  },
  {
   "cell_type": "markdown",
   "metadata": {},
   "source": [
    "#### Loading the second dataset"
   ]
  },
  {
   "cell_type": "code",
   "execution_count": 14,
   "metadata": {
    "pycharm": {
     "is_executing": false
    }
   },
   "outputs": [
    {
     "name": "stdout",
     "output_type": "stream",
     "text": [
      "(55923, 9)\n"
     ]
    },
    {
     "data": {
      "text/html": [
       "<div>\n",
       "<style scoped>\n",
       "    .dataframe tbody tr th:only-of-type {\n",
       "        vertical-align: middle;\n",
       "    }\n",
       "\n",
       "    .dataframe tbody tr th {\n",
       "        vertical-align: top;\n",
       "    }\n",
       "\n",
       "    .dataframe thead th {\n",
       "        text-align: right;\n",
       "    }\n",
       "</style>\n",
       "<table border=\"1\" class=\"dataframe\">\n",
       "  <thead>\n",
       "    <tr style=\"text-align: right;\">\n",
       "      <th></th>\n",
       "      <th>id</th>\n",
       "      <th>Song_Name</th>\n",
       "      <th>Artist_Name</th>\n",
       "      <th>Album_Name</th>\n",
       "      <th>Genre</th>\n",
       "      <th>Price</th>\n",
       "      <th>CopyRight</th>\n",
       "      <th>Time</th>\n",
       "      <th>Released</th>\n",
       "    </tr>\n",
       "  </thead>\n",
       "  <tbody>\n",
       "    <tr>\n",
       "      <th>0</th>\n",
       "      <td>0</td>\n",
       "      <td>Saxophone Stomp [ Explicit ]</td>\n",
       "      <td>Rusko</td>\n",
       "      <td>! ( Volume 2 ) [ Explicit ]</td>\n",
       "      <td>Dance &amp; Electronic , Dubstep</td>\n",
       "      <td>$ 1.29</td>\n",
       "      <td>( C ) 2014 FMLY Under Exclusive License To Uni...</td>\n",
       "      <td>3:20</td>\n",
       "      <td>September 16 , 2014</td>\n",
       "    </tr>\n",
       "    <tr>\n",
       "      <th>1</th>\n",
       "      <td>1</td>\n",
       "      <td>I Wan na Mingle [ feat . Pusher ]</td>\n",
       "      <td>Rusko</td>\n",
       "      <td>! ( Volume 2 ) [ Explicit ]</td>\n",
       "      <td>Dance &amp; Electronic , Dubstep</td>\n",
       "      <td>$ 1.29</td>\n",
       "      <td>( C ) 2014 FMLY Under Exclusive License To Uni...</td>\n",
       "      <td>2:36</td>\n",
       "      <td>September 16 , 2014</td>\n",
       "    </tr>\n",
       "    <tr>\n",
       "      <th>2</th>\n",
       "      <td>2</td>\n",
       "      <td>Lytah</td>\n",
       "      <td>Rusko</td>\n",
       "      <td>! ( Volume 2 ) [ Explicit ]</td>\n",
       "      <td>Dance &amp; Electronic , Dubstep</td>\n",
       "      <td>$ 1.29</td>\n",
       "      <td>( C ) 2014 FMLY Under Exclusive License To Uni...</td>\n",
       "      <td>3:48</td>\n",
       "      <td>September 16 , 2014</td>\n",
       "    </tr>\n",
       "    <tr>\n",
       "      <th>3</th>\n",
       "      <td>3</td>\n",
       "      <td>Slappy Pappy</td>\n",
       "      <td>Rusko</td>\n",
       "      <td>! ( Volume 2 ) [ Explicit ]</td>\n",
       "      <td>Dance &amp; Electronic , Dubstep</td>\n",
       "      <td>$ 1.29</td>\n",
       "      <td>( C ) 2014 FMLY Under Exclusive License To Uni...</td>\n",
       "      <td>3:55</td>\n",
       "      <td>September 16 , 2014</td>\n",
       "    </tr>\n",
       "    <tr>\n",
       "      <th>4</th>\n",
       "      <td>4</td>\n",
       "      <td>Fushion Jam</td>\n",
       "      <td>Rusko</td>\n",
       "      <td>! ( Volume 2 ) [ Explicit ]</td>\n",
       "      <td>Dance &amp; Electronic , Dubstep</td>\n",
       "      <td>$ 1.29</td>\n",
       "      <td>( C ) 2014 FMLY Under Exclusive License To Uni...</td>\n",
       "      <td>1:48</td>\n",
       "      <td>September 16 , 2014</td>\n",
       "    </tr>\n",
       "  </tbody>\n",
       "</table>\n",
       "</div>"
      ],
      "text/plain": [
       "   id                          Song_Name Artist_Name  \\\n",
       "0   0       Saxophone Stomp [ Explicit ]       Rusko   \n",
       "1   1  I Wan na Mingle [ feat . Pusher ]       Rusko   \n",
       "2   2                              Lytah       Rusko   \n",
       "3   3                       Slappy Pappy       Rusko   \n",
       "4   4                        Fushion Jam       Rusko   \n",
       "\n",
       "                    Album_Name                         Genre   Price  \\\n",
       "0  ! ( Volume 2 ) [ Explicit ]  Dance & Electronic , Dubstep  $ 1.29   \n",
       "1  ! ( Volume 2 ) [ Explicit ]  Dance & Electronic , Dubstep  $ 1.29   \n",
       "2  ! ( Volume 2 ) [ Explicit ]  Dance & Electronic , Dubstep  $ 1.29   \n",
       "3  ! ( Volume 2 ) [ Explicit ]  Dance & Electronic , Dubstep  $ 1.29   \n",
       "4  ! ( Volume 2 ) [ Explicit ]  Dance & Electronic , Dubstep  $ 1.29   \n",
       "\n",
       "                                           CopyRight  Time  \\\n",
       "0  ( C ) 2014 FMLY Under Exclusive License To Uni...  3:20   \n",
       "1  ( C ) 2014 FMLY Under Exclusive License To Uni...  2:36   \n",
       "2  ( C ) 2014 FMLY Under Exclusive License To Uni...  3:48   \n",
       "3  ( C ) 2014 FMLY Under Exclusive License To Uni...  3:55   \n",
       "4  ( C ) 2014 FMLY Under Exclusive License To Uni...  1:48   \n",
       "\n",
       "              Released  \n",
       "0  September 16 , 2014  \n",
       "1  September 16 , 2014  \n",
       "2  September 16 , 2014  \n",
       "3  September 16 , 2014  \n",
       "4  September 16 , 2014  "
      ]
     },
     "execution_count": 14,
     "metadata": {},
     "output_type": "execute_result"
    }
   ],
   "source": [
    "f2 = 'pipeline/experiments/itunes_amazon/exp_data/tableB.csv'\n",
    "df2 = pd.read_csv('../' + f2, encoding='utf-8')\n",
    "print(df2.shape)\n",
    "df2.head(5)"
   ]
  },
  {
   "cell_type": "markdown",
   "metadata": {},
   "source": [
    "#### Setting the Data Preprocessing parameters"
   ]
  },
  {
   "cell_type": "code",
   "execution_count": 46,
   "metadata": {},
   "outputs": [],
   "source": [
    "e = list(df1.columns) + list(df2.columns)\n",
    "expand_col = ','.join(e)"
   ]
  },
  {
   "cell_type": "markdown",
   "metadata": {},
   "source": [
    "#### Generating the basic dataset in the heuristic case. "
   ]
  },
  {
   "cell_type": "code",
   "execution_count": 47,
   "metadata": {},
   "outputs": [
    {
     "name": "stderr",
     "output_type": "stream",
     "text": [
      "../EmbDI/data_preprocessing.py:76: UserWarning: No attributes chosen to round.\n",
      "  warnings.warn('No attributes chosen to round.')\n"
     ]
    }
   ],
   "source": [
    "parameters = {\n",
    "    'output_file': 'itunes_amazon',\n",
    "    'concatenate': 'outer',\n",
    "    'missing_value': 'nan,ukn,none,unknown,',\n",
    "    'missing_value_strategy': '',\n",
    "    'round_number': 1,\n",
    "    'round_columns': '',\n",
    "    'auto_merge': False,\n",
    "    'tokenize_shared': True \n",
    "}\n",
    "\n",
    "df_c = dp.data_preprocessing([df1.drop('id', axis=1), df2.drop('id', axis=1)], parameters)\n",
    "# df_c = df_c.drop('id', axis=1)\n",
    "df_c.to_csv('../pipeline/datasets/itunes_amazon/itunes_amazon-heuristic-er.csv', index=False)"
   ]
  },
  {
   "cell_type": "markdown",
   "metadata": {},
   "source": [
    "#### Generating the basic dataset in the basic case. "
   ]
  },
  {
   "cell_type": "code",
   "execution_count": 48,
   "metadata": {},
   "outputs": [],
   "source": [
    "parameters = {\n",
    "    'output_file': 'itunes_amazon',\n",
    "    'concatenate': 'outer',\n",
    "    'missing_value': 'nan,ukn,none,unknown,',\n",
    "    'missing_value_strategy': '',\n",
    "    'round_number': 1,\n",
    "    'expand_columns': expand_col,\n",
    "    'auto_merge': False,\n",
    "    'tokenize_shared': False \n",
    "}\n",
    "\n",
    "df_c = dp.data_preprocessing([df1.drop('id', axis=1), df2.drop('id', axis=1)], parameters)\n",
    "# df_c = df_c.drop('id', axis=1)\n",
    "df_c.to_csv('../pipeline/datasets/itunes_amazon/itunes_amazon-basic-er.csv', index=False)"
   ]
  },
  {
   "cell_type": "markdown",
   "metadata": {},
   "source": [
    "#### Generating the schema matching dataset in the heuristic case. "
   ]
  },
  {
   "cell_type": "code",
   "execution_count": 49,
   "metadata": {},
   "outputs": [],
   "source": [
    "parameters = {\n",
    "    'output_file': 'itunes_amazon',\n",
    "    'concatenate': 'horizon',\n",
    "    'missing_value': 'nan,ukn,none,unknown,',\n",
    "    'missing_value_strategy': '',\n",
    "    'round_number': 1,\n",
    "    'round_columns': '',\n",
    "    'auto_merge': False,\n",
    "    'tokenize_shared': True \n",
    "}\n",
    "\n",
    "df_c = dp.data_preprocessing([df1.drop('id', axis=1), df2.drop('id', axis=1)], parameters)\n",
    "# df_c = df_c.drop('id', axis=1)\n",
    "df_c.to_csv('../pipeline/datasets/itunes_amazon/itunes_amazon-heuristic-sm.csv', index=False)"
   ]
  },
  {
   "cell_type": "markdown",
   "metadata": {},
   "source": [
    "#### Generating the schema matching dataset in the basic case. "
   ]
  },
  {
   "cell_type": "code",
   "execution_count": 25,
   "metadata": {},
   "outputs": [],
   "source": [
    "parameters = {\n",
    "    'output_file': 'itunes_amazon',\n",
    "    'concatenate': 'horizon',\n",
    "    'missing_value': 'nan,ukn,none,unknown,',\n",
    "    'missing_value_strategy': '',\n",
    "    'round_number': 1,\n",
    "    'expand_columns': df1.columns + df2.columns,\n",
    "    'auto_merge': False,\n",
    "    'tokenize_shared': False \n",
    "}\n",
    "\n",
    "df_c = dp.data_preprocessing([df1.drop('id', axis=1), df2.drop('id', axis=1)], parameters)\n",
    "# df_c = df_c.drop('id', axis=1)\n",
    "df_c.to_csv('../pipeline/datasets/itunes_amazon/itunes_amazon-basic-sm.csv', index=False)"
   ]
  },
  {
   "cell_type": "code",
   "execution_count": 17,
   "metadata": {},
   "outputs": [
    {
     "name": "stdout",
     "output_type": "stream",
     "text": [
      "0_album_name,1_album_name\n",
      "0_artist_name,1_artist_name\n",
      "0_copyright,1_copyright\n",
      "0_genre,1_genre\n",
      "0_price,1_price\n",
      "0_released,1_released\n",
      "0_song_name,1_song_name\n",
      "0_time,1_time\n"
     ]
    }
   ],
   "source": [
    "lcol = len(df_c.columns)//2\n",
    "for _ in range(lcol):\n",
    "    print('{},{}'.format(df_c.columns[_],df_c.columns[_+lcol]))"
   ]
  },
  {
   "cell_type": "code",
   "execution_count": 18,
   "metadata": {},
   "outputs": [],
   "source": [
    "dp.write_info_file([df1, df2], 'info-itunes_amazon.txt', [f1,f2])"
   ]
  },
  {
   "cell_type": "markdown",
   "metadata": {},
   "source": [
    "#### Prepare the match file"
   ]
  },
  {
   "cell_type": "code",
   "execution_count": 19,
   "metadata": {},
   "outputs": [
    {
     "name": "stdout",
     "output_type": "stream",
     "text": [
      "test.csv\n",
      "File test.csv: 27 matches.\n",
      "train.csv\n",
      "File train.csv: 78 matches.\n",
      "valid.csv\n",
      "File valid.csv: 27 matches.\n",
      "Total matches: 132\n"
     ]
    }
   ],
   "source": [
    "import os\n",
    "import os.path\n",
    "\n",
    "tot_m = 0\n",
    "dir_path = '../pipeline/experiments/itunes_amazon/exp_data/'\n",
    "with open('../pipeline/matches/matches-itunes_amazon.txt', 'w') as fo:\n",
    "    for file in os.listdir(dir_path):\n",
    "        if file not in [os.path.basename(_) for _ in [f1, f2]]:        \n",
    "            print(file)\n",
    "            m = 0\n",
    "            with open(dir_path + file, 'r') as fp:\n",
    "                for idx, line in enumerate(fp):\n",
    "                    m1, m2, flag = line.rstrip().rsplit(',')\n",
    "                    if flag == '1':\n",
    "                        s = 'idx_{0},idx_{1}\\n'.format(m1, str(int(m2) + len(df1)))\n",
    "                        fo.write(s)\n",
    "                        m+=1\n",
    "            print('File {}: {} matches.'.format(file, m))\n",
    "            tot_m+=m\n",
    "print('Total matches: {}'.format(tot_m))"
   ]
  },
  {
   "cell_type": "code",
   "execution_count": null,
   "metadata": {},
   "outputs": [],
   "source": []
  }
 ],
 "metadata": {
  "kernelspec": {
   "display_name": "PyCharm (EmbDI)",
   "language": "python",
   "name": "pycharm-f75c726a"
  },
  "language_info": {
   "codemirror_mode": {
    "name": "ipython",
    "version": 3
   },
   "file_extension": ".py",
   "mimetype": "text/x-python",
   "name": "python",
   "nbconvert_exporter": "python",
   "pygments_lexer": "ipython3",
   "version": "3.7.3"
  }
 },
 "nbformat": 4,
 "nbformat_minor": 4
}
