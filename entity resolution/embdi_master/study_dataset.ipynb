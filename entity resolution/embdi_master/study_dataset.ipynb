{
 "cells": [
  {
   "cell_type": "code",
   "execution_count": 1,
   "metadata": {
    "pycharm": {
     "is_executing": false
    }
   },
   "outputs": [],
   "source": [
    "import pandas as pd\n",
    "import numpy as np\n",
    "import os\n",
    "import matplotlib.pyplot as plt\n",
    "from collections import Counter\n",
    "import scipy.stats as stats\n",
    "import random\n",
    "import os\n",
    "import math\n",
    "import networkx as nx\n",
    "from EmbDI.graph import Graph\n",
    "from EmbDI.utils import *"
   ]
  },
  {
   "cell_type": "code",
   "execution_count": 41,
   "metadata": {},
   "outputs": [],
   "source": [
    "import csv"
   ]
  },
  {
   "cell_type": "code",
   "execution_count": 74,
   "metadata": {},
   "outputs": [],
   "source": [
    "class StudyUnit:\n",
    "    def __init__(self, dataset_name, prefixes=['3#__tn', '3$__tt','5$__idx', '1$__cid']):\n",
    "        path_df = str('pipeline/datasets/{}/{}-master.csv'.format(dataset_name, dataset_name))\n",
    "        self.df = pd.read_csv(path_df, dtype=str)\n",
    "\n",
    "        dataset_info = 'pipeline/info/info-{}.txt'.format(dataset_name)\n",
    "        with open(dataset_info, 'r') as fp:\n",
    "            n_items = {}\n",
    "            for idx, line in enumerate(fp):\n",
    "                k, v = line.split(',')\n",
    "                n_items[idx] = int(v)\n",
    "\n",
    "        match_file = 'pipeline/matches/matches-{}.txt'.format(dataset_name)\n",
    "\n",
    "        with open(match_file, 'r') as fp:\n",
    "            for ix, line in enumerate(fp):\n",
    "                pass\n",
    "            self.matching_lines = ix\n",
    "        self.df1 = self.df[:n_items[0]]\n",
    "        self.df2 = self.df[n_items[0]:]\n",
    "        counts = Counter(self.df.values.ravel())\n",
    "        if np.nan in counts:\n",
    "            counts.pop(np.nan)\n",
    "\n",
    "        self.uniq_df1 = set(self.df1.values.ravel().tolist())\n",
    "        self.uniq_df2 = set(self.df2.values.ravel().tolist())\n",
    "        self.uniq_complete = self.uniq_df1.union(self.uniq_df2)\n",
    "        self.intersection = self.uniq_df1.intersection(self.uniq_df2)\n",
    "        self.ov_col = [_ for _ in self.df1.columns if _ in self.df2.columns]\n",
    "        \n",
    "        self.build_graph(dataset_name)\n",
    "        \n",
    "#         with open(edgelist_file, 'r') as fp:\n",
    "#             for idx, line in enumerate(fp):\n",
    "#                 split = line.split(',')\n",
    "#                 if len(split) < 2:\n",
    "#                     continue\n",
    "#                 n1, n2 = split[:2]\n",
    "#                 self.graph.add_edge(n1,n2)\n",
    "\n",
    "    def build_graph(self, dataset_name):\n",
    "        edgelist_file = 'pipeline/edgelists/{}-edgelist.txt'.format(dataset_name)\n",
    "\n",
    "        prefixes, edgelist = read_edgelist(edgelist_file)\n",
    "        \n",
    "        g = Graph(edgelist, prefixes=prefixes, flatten=['tt'])\n",
    "\n",
    "        self.nxg = g.convert_to_nx()\n",
    "\n",
    "    \n",
    "    def edges_by_node(self):\n",
    "        ebn = {}\n",
    "        for node in self.nxg.nodes():\n",
    "            if node.startswith('idx__') or node.startswith('cid__'):\n",
    "                continue\n",
    "            ebn[node] = len(self.nxg.edges(node))\n",
    "        return ebn\n",
    "        \n",
    "    def get_basic_info(self):\n",
    "        info = [\n",
    "            len(self.df),\n",
    "            len(self.df.columns),\n",
    "            self.matching_lines,\n",
    "            len(self.ov_col),\n",
    "            len(self.intersection),\n",
    "            100 * (len(self.intersection) / len(self.uniq_complete))\n",
    "        ]\n",
    "        return info\n",
    "\n",
    "    def get_graph_info(self):\n",
    "        ebn = self.edges_by_node()\n",
    "        v1 = sorted([ebn[_] for _ in ebn], reverse=True)\n",
    "        v2 = [0]*1 + v1\n",
    "        v1 = np.array(v1)\n",
    "        v2 = np.array(v2)\n",
    "        \n",
    "        info = []\n",
    "        \n",
    "\n",
    "        info = []\n",
    "        \n",
    "        total_nodes = len(v1)\n",
    "        avg = np.average(v1)\n",
    "        sumdeg = np.sum(v1)\n",
    "        maxdeg = max(v1)\n",
    "        perc = np.percentile(v1, 99)\n",
    "        aboveperc = v1[v1>perc]\n",
    "        edgesaboveperc = sum(aboveperc)\n",
    "        avg_deg_above_perc = np.average(aboveperc)\n",
    "        \n",
    "        info.append(total_nodes)\n",
    "        info.append(avg)\n",
    "        info.append(sumdeg)\n",
    "        info.append(maxdeg)\n",
    "        info.append(perc)\n",
    "        info.append(len(aboveperc))\n",
    "        info.append(edgesaboveperc)\n",
    "        info.append(edgesaboveperc/sumdeg*100)\n",
    "        info.append(avg_deg_above_perc)\n",
    "\n",
    "        return info\n",
    "\n",
    "    \n",
    "    def print_basic_info(self):\n",
    "        print('Overall number of lines: {}'.format(len(self.df)))\n",
    "        print('Overall number of columns: {}'.format(len(self.df.columns)))\n",
    "        print('Overall distinct values: {}'.format(len(self.uniq_complete)))\n",
    "        print('Values in Ground Truth: {}'.format(self.matching_lines))\n",
    "        print('Overlapping columns: {}'.format(len(self.ov_col)))\n",
    "        print('Overlapping values: {}'.format(len(self.intersection)))\n",
    "        print('Unique elements in dataset 1: {}'.format(len(self.uniq_df1)))\n",
    "        print('Unique elements in dataset 2: {}'.format(len(self.uniq_df2)))\n",
    "        print('Values in common between dataset 1 and dataset 2: {}'.format(len(self.intersection)))\n",
    "        print('Fraction of values in common: {:.2f}%'.format(100 * (len(self.intersection) / len(self.uniq_complete))))\n",
    "        print('{:30}{:20}'.format('Dataset 1 Rows:', len(self.df1)))\n",
    "        print('{:30}{:20}'.format('Dataset 1 Columns:', len(self.df1.columns)))\n",
    "        print('{:30}{:20}'.format('Dataset 2 Rows:', len(self.df2)))\n",
    "        print('{:30}{:20}'.format('Dataset 2 Columns:', len(self.df2.columns)))\n",
    "        print('{:30}{:20}'.format('Combined Dataset Rows:', len(self.df)))\n",
    "        print('{:30}{:20}'.format('Combined Dataset Columns:', len(self.df.columns)))\n",
    "      \n",
    "    \n",
    "    def print_graph_info(self):\n",
    "        print(nx.info(self.nxg))\n",
    "        ebn = self.edges_by_node()\n",
    "        v1 = sorted([ebn[_] for _ in ebn], reverse=True)\n",
    "        v2 = [0]*1 + v1\n",
    "        v1 = np.array(v1)\n",
    "        v2 = np.array(v2)\n",
    "        \n",
    "        info = []\n",
    "        \n",
    "        total_nodes = len(v1)\n",
    "        avg = np.average(v1)\n",
    "        sumdeg = np.sum(v1)\n",
    "        maxdeg = max(v1)\n",
    "        perc = np.percentile(v1, 99)\n",
    "        aboveperc = v1[v1>perc]\n",
    "        edgesaboveperc = sum(aboveperc)\n",
    "        avg_deg_above_perc = np.average(aboveperc)\n",
    "                \n",
    "        print('Total nodes: {}'.format(total_nodes))\n",
    "        print('Average degree: {:.2f}'.format(avg))\n",
    "        print('Total rid edges: {}'.format(sumdeg))\n",
    "        print('Max degree: {}'.format(maxdeg))\n",
    "        print('99-th percentile: {:.2f}'.format(perc))\n",
    "        print('99-th perc/n edges: {:.4f}%'.format(perc/sumdeg*100))\n",
    "        print('Nodes above 99-th perc: {}'.format(len(aboveperc)))\n",
    "        print('Edges above 99th perc: {}'.format(edgesaboveperc))\n",
    "        print('Frac above perc: {:.2f}'.format(edgesaboveperc/sumdeg*100))\n",
    "        print('Average degree above perc: {:.2f}'.format(avg_deg_above_perc))\n",
    "\n",
    "        \n",
    "#         norm_v1 = normalize(v2)\n",
    "#         fig = plt.figure(figsize=(10,8))\n",
    "#         ax = fig.gca()\n",
    "#         plt.semilogx(norm_v1, label='normalized frequencies', ls=':')\n"
   ]
  },
  {
   "cell_type": "code",
   "execution_count": 77,
   "metadata": {},
   "outputs": [
    {
     "name": "stderr",
     "output_type": "stream",
     "text": [
      "Loading edgelist_file.:  14%|█▍        | 2957/21396 [00:00<00:00, 29565.59it/s]"
     ]
    },
    {
     "name": "stdout",
     "output_type": "stream",
     "text": [
      "amazon_google\n",
      "# Expanding columns ['tt'].\n"
     ]
    },
    {
     "name": "stderr",
     "output_type": "stream",
     "text": [
      "Loading edgelist_file.: 100%|██████████| 21396/21396 [00:00<00:00, 38886.87it/s]\n",
      "Prepare aliased randomizer for each node: 100%|██████████| 15509/15509 [00:00<00:00, 57363.14it/s]\n"
     ]
    },
    {
     "name": "stdout",
     "output_type": "stream",
     "text": [
      "\n",
      "walmart_amazon\n"
     ]
    },
    {
     "name": "stderr",
     "output_type": "stream",
     "text": [
      "Loading edgelist_file.:   2%|▏         | 3439/224838 [00:00<00:06, 34382.41it/s]"
     ]
    },
    {
     "name": "stdout",
     "output_type": "stream",
     "text": [
      "# Expanding columns ['tt'].\n"
     ]
    },
    {
     "name": "stderr",
     "output_type": "stream",
     "text": [
      "Loading edgelist_file.: 100%|██████████| 224838/224838 [00:11<00:00, 20166.42it/s]\n",
      "Prepare aliased randomizer for each node: 100%|██████████| 95569/95569 [00:05<00:00, 18009.90it/s]\n"
     ]
    },
    {
     "name": "stdout",
     "output_type": "stream",
     "text": [
      "\n",
      "itunes_amazon\n"
     ]
    },
    {
     "name": "stderr",
     "output_type": "stream",
     "text": [
      "Loading edgelist_file.:   1%|          | 5772/990136 [00:00<00:17, 57709.60it/s]"
     ]
    },
    {
     "name": "stdout",
     "output_type": "stream",
     "text": [
      "# Expanding columns ['tt'].\n"
     ]
    },
    {
     "name": "stderr",
     "output_type": "stream",
     "text": [
      "Loading edgelist_file.: 100%|██████████| 990136/990136 [00:25<00:00, 39080.40it/s]\n",
      "Prepare aliased randomizer for each node: 100%|██████████| 135400/135400 [00:07<00:00, 18151.51it/s]\n"
     ]
    },
    {
     "name": "stdout",
     "output_type": "stream",
     "text": [
      "\n",
      "imdb_movielens\n"
     ]
    },
    {
     "name": "stderr",
     "output_type": "stream",
     "text": [
      "Loading edgelist_file.:   0%|          | 0/1214420 [00:00<?, ?it/s]"
     ]
    },
    {
     "name": "stdout",
     "output_type": "stream",
     "text": [
      "# Expanding columns ['tt'].\n"
     ]
    },
    {
     "name": "stderr",
     "output_type": "stream",
     "text": [
      "Loading edgelist_file.: 100%|██████████| 1214420/1214420 [00:30<00:00, 40408.37it/s]\n",
      "Prepare aliased randomizer for each node: 100%|██████████| 228108/228108 [00:04<00:00, 50626.72it/s]\n"
     ]
    },
    {
     "name": "stdout",
     "output_type": "stream",
     "text": [
      "\n",
      "dblp_scholar\n"
     ]
    },
    {
     "name": "stderr",
     "output_type": "stream",
     "text": [
      "Loading edgelist_file.:   1%|          | 4707/434502 [00:00<00:09, 47058.38it/s]"
     ]
    },
    {
     "name": "stdout",
     "output_type": "stream",
     "text": [
      "# Expanding columns ['tt'].\n"
     ]
    },
    {
     "name": "stderr",
     "output_type": "stream",
     "text": [
      "Loading edgelist_file.: 100%|██████████| 434502/434502 [00:25<00:00, 16834.11it/s]\n",
      "Prepare aliased randomizer for each node: 100%|██████████| 299005/299005 [00:09<00:00, 31258.47it/s]\n"
     ]
    },
    {
     "name": "stdout",
     "output_type": "stream",
     "text": [
      "\n"
     ]
    },
    {
     "name": "stderr",
     "output_type": "stream",
     "text": [
      "Loading edgelist_file.: 100%|██████████| 10366/10366 [00:00<00:00, 69967.05it/s]\n",
      "Prepare aliased randomizer for each node:   0%|          | 0/5804 [00:00<?, ?it/s]"
     ]
    },
    {
     "name": "stdout",
     "output_type": "stream",
     "text": [
      "fodors_zagats\n",
      "# Expanding columns ['tt'].\n"
     ]
    },
    {
     "name": "stderr",
     "output_type": "stream",
     "text": [
      "Prepare aliased randomizer for each node: 100%|██████████| 5804/5804 [00:00<00:00, 69525.34it/s]\n",
      "Loading edgelist_file.:   0%|          | 0/54772 [00:00<?, ?it/s]"
     ]
    },
    {
     "name": "stdout",
     "output_type": "stream",
     "text": [
      "\n",
      "dblp_acm\n",
      "# Expanding columns ['tt'].\n"
     ]
    },
    {
     "name": "stderr",
     "output_type": "stream",
     "text": [
      "Loading edgelist_file.: 100%|██████████| 54772/54772 [00:00<00:00, 57848.58it/s]\n",
      "Prepare aliased randomizer for each node: 100%|██████████| 19730/19730 [00:00<00:00, 52768.13it/s]\n"
     ]
    },
    {
     "name": "stdout",
     "output_type": "stream",
     "text": [
      "\n"
     ]
    },
    {
     "name": "stderr",
     "output_type": "stream",
     "text": [
      "Loading edgelist_file.:  10%|█         | 5721/56956 [00:00<00:00, 57198.87it/s]"
     ]
    },
    {
     "name": "stdout",
     "output_type": "stream",
     "text": [
      "beer\n",
      "# Expanding columns ['tt'].\n"
     ]
    },
    {
     "name": "stderr",
     "output_type": "stream",
     "text": [
      "Loading edgelist_file.: 100%|██████████| 56956/56956 [00:07<00:00, 8120.30it/s] \n",
      "Prepare aliased randomizer for each node: 100%|██████████| 25491/25491 [00:00<00:00, 56024.01it/s]\n"
     ]
    },
    {
     "name": "stdout",
     "output_type": "stream",
     "text": [
      "\n"
     ]
    }
   ],
   "source": [
    "sus = {}\n",
    "for dset in ['amazon_google', 'walmart_amazon', 'itunes_amazon', 'imdb_movielens', 'dblp_scholar', 'fodors_zagats', 'dblp_acm', 'beer']:\n",
    "    print(dset)\n",
    "    su = StudyUnit(dset)\n",
    "    sus[dset] = su\n",
    "#     su.print_basic_info()\n",
    "#     su.print_graph_info()"
   ]
  },
  {
   "cell_type": "code",
   "execution_count": 79,
   "metadata": {},
   "outputs": [],
   "source": [
    "csvfile = open('pipeline/dataset_infodump.csv', 'w')\n",
    "writer = csv.writer(csvfile)\n",
    "header = [\n",
    "    'Dataset name',\n",
    "    'Number lines',\n",
    "    'Number columns',\n",
    "    'Size of ground truth',\n",
    "    'Overlap columns',\n",
    "    'Overlap values',\n",
    "    'Overlap fraction',\n",
    "    'Total nodes',\n",
    "    'Average degree',\n",
    "    'Total edges',\n",
    "    'Max degree',\n",
    "    '99-th percentile',\n",
    "#     '99-th perc/n edges',\n",
    "    'Nodes above 99-th perc',\n",
    "    'Edges above 99th perc',\n",
    "    '% Edges above 99th perc',\n",
    "    'Average degree above perc'\n",
    "]\n",
    "writer.writerow(header)\n",
    "\n",
    "for dset in sus:\n",
    "    line = [dset] + sus[dset].get_basic_info() + sus[dset].get_graph_info()\n",
    "    writer.writerow(line)\n",
    "csvfile.close()"
   ]
  },
  {
   "cell_type": "code",
   "execution_count": 63,
   "metadata": {},
   "outputs": [
    {
     "name": "stderr",
     "output_type": "stream",
     "text": [
      "Loading edgelist_file.:   5%|▌         | 2995/54772 [00:00<00:01, 29943.46it/s]"
     ]
    },
    {
     "name": "stdout",
     "output_type": "stream",
     "text": [
      "# Expanding columns ['tt'].\n"
     ]
    },
    {
     "name": "stderr",
     "output_type": "stream",
     "text": [
      "Loading edgelist_file.: 100%|██████████| 54772/54772 [00:01<00:00, 40086.42it/s]\n",
      "Prepare aliased randomizer for each node: 100%|██████████| 19730/19730 [00:00<00:00, 37395.45it/s]\n"
     ]
    },
    {
     "name": "stdout",
     "output_type": "stream",
     "text": [
      "\n"
     ]
    }
   ],
   "source": [
    "da = StudyUnit('dblp_acm')"
   ]
  },
  {
   "cell_type": "code",
   "execution_count": 17,
   "metadata": {},
   "outputs": [],
   "source": [
    "def normalize(x):\n",
    "    min_x = min(x)\n",
    "    max_x = max(x)\n",
    "    return (x-min_x)/(max_x-min_x)\n"
   ]
  },
  {
   "cell_type": "code",
   "execution_count": 19,
   "metadata": {},
   "outputs": [],
   "source": [
    "ebn = edges_by_node(dblp_acm.nxg)"
   ]
  },
  {
   "cell_type": "code",
   "execution_count": 24,
   "metadata": {},
   "outputs": [
    {
     "name": "stdout",
     "output_type": "stream",
     "text": [
      "Minimum degree: 2\n",
      "Maximum degree: 2212\n",
      "Average degree: 8.72\n",
      "Total rid edges: 129251\n",
      "0 2212\n"
     ]
    },
    {
     "data": {
      "text/plain": [
       "[<matplotlib.lines.Line2D at 0x7fabc5f1a940>]"
      ]
     },
     "execution_count": 24,
     "metadata": {},
     "output_type": "execute_result"
    },
    {
     "data": {
      "image/png": "[encoded data removed]",
      "text/plain": [
       "<Figure size 720x576 with 1 Axes>"
      ]
     },
     "metadata": {
      "needs_background": "light"
     },
     "output_type": "display_data"
    }
   ],
   "source": [
    "v1 = sorted([ebn[_] for _ in ebn], reverse=True)\n",
    "v2 = [0]*1 + v1\n",
    "\n",
    "print('Minimum degree: {}'.format(min(ebn.values())))\n",
    "print('Maximum degree: {}'.format(max(ebn.values())))\n",
    "\n",
    "v1 = np.array(v1)\n",
    "v2 = np.array(v2)\n",
    "\n",
    "avg = np.average(v1)\n",
    "print('Average degree: {:.2f}'.format(avg))\n",
    "sumdeg = np.sum(v1)\n",
    "print('Total rid edges: {}'.format(sumdeg))\n",
    "\n",
    "norm_v1 = normalize(v2)\n",
    "fig = plt.figure(figsize=(10,8))\n",
    "ax = fig.gca()\n",
    "# plt.loglog(v1)\n",
    "\n",
    "plt.semilogx(norm_v1, label='normalized frequencies', ls=':')\n",
    "\n"
   ]
  },
  {
   "cell_type": "code",
   "execution_count": 27,
   "metadata": {},
   "outputs": [
    {
     "name": "stdout",
     "output_type": "stream",
     "text": [
      "Total nodes: 14814\n",
      "Average degree: 8.72\n",
      "Total rid edges: 129251\n",
      "Max degree: 2212\n",
      "99-th percentile: 67.87\n",
      "99-th perc/n edges: 0.0525%\n",
      "Nodes above 99-th perc: 149\n",
      "Edges above 99th perc: 47336\n",
      "Frac above perc: 36.62\n",
      "Average degree above perc: 317.69\n"
     ]
    }
   ],
   "source": [
    "total_nodes = len(v1)\n",
    "print('Total nodes: {}'.format(total_nodes))\n",
    "avg = np.average(v1)\n",
    "print('Average degree: {:.2f}'.format(avg))\n",
    "sumdeg = np.sum(v1)\n",
    "print('Total rid edges: {}'.format(sumdeg))\n",
    "maxdeg = max(v1)\n",
    "print('Max degree: {}'.format(maxdeg))\n",
    "perc = np.percentile(v1, 99)\n",
    "print('99-th percentile: {:.2f}'.format(perc))\n",
    "print('99-th perc/n edges: {:.4f}%'.format(perc/sumdeg*100))\n",
    "aboveperc = v1[v1>perc]\n",
    "print('Nodes above 99-th perc: {}'.format(len(aboveperc)))\n",
    "edgesaboveperc = sum(aboveperc)\n",
    "print('Edges above 99th perc: {}'.format(edgesaboveperc))\n",
    "print('Frac above perc: {:.2f}'.format(edgesaboveperc/sumdeg*100))\n",
    "avg_deg_above_perc = np.average(aboveperc)\n",
    "print('Average degree above perc: {:.2f}'.format(avg_deg_above_perc))\n"
   ]
  },
  {
   "cell_type": "code",
   "execution_count": 3,
   "metadata": {},
   "outputs": [],
   "source": [
    "def smooth_freq(freq, s=0.2, k=0.05, target=200, eps=0.01):\n",
    "    return smooth_exp(freq, eps, target, k, s)\n",
    "\n",
    "def smooth_exp(x, eps, target, k, s):\n",
    "    t = (eps/(1-s))**(k/(1-target))\n",
    "    y = (1-s) * t ** (-1/k*x + 1/k) + s    \n",
    "    return y\n",
    "\n",
    "def f_log(x, b=10):\n",
    "    log_b = np.log10(x) / np.log10(b)\n",
    "    return 1/(log_b+1)\n",
    "\n",
    "def smooth_exp_v2(x, target, s):\n",
    "    b = (1/2) ** (1/(1-target))\n",
    "    y = (1-s) * b ** (-1*x + 1) + s\n",
    "    return y\n",
    "\n",
    "def smooth_freq_v2(freq, s=0.2, target=200):\n",
    "    return smooth_exp_v2(freq,target,s)\n",
    "\n",
    "def inverse(x):\n",
    "    return 1/x\n",
    "\n",
    "def inverse_smooth(x, s):\n",
    "    y = (1/2) * ((s-1) * math.e ** (1-x) + 2 - s)\n",
    "    return y"
   ]
  },
  {
   "cell_type": "code",
   "execution_count": 39,
   "metadata": {},
   "outputs": [],
   "source": [
    "g = nx.Graph()"
   ]
  },
  {
   "cell_type": "code",
   "execution_count": 16,
   "metadata": {
    "collapsed": true,
    "jupyter": {
     "outputs_hidden": true,
     "source_hidden": true
    }
   },
   "outputs": [
    {
     "name": "stdout",
     "output_type": "stream",
     "text": [
      "Average degree: 4.03\n",
      "Total rid edges: 432048\n",
      "0 32185\n",
      "Skewness: 166.22\n",
      "Kurtosis: 32983.98\n"
     ]
    },
    {
     "name": "stderr",
     "output_type": "stream",
     "text": [
      "/home/spoutnik23/anaconda3/lib/python3.7/site-packages/ipykernel_launcher.py:10: RuntimeWarning: divide by zero encountered in log10\n",
      "  # Remove the CWD from sys.path while we load stuff.\n"
     ]
    },
    {
     "data": {
      "image/png": "[encoded data removed]",
      "text/plain": [
       "<Figure size 720x576 with 1 Axes>"
      ]
     },
     "metadata": {
      "needs_background": "light"
     },
     "output_type": "display_data"
    },
    {
     "data": {
      "text/plain": [
       "<Figure size 720x432 with 0 Axes>"
      ]
     },
     "metadata": {},
     "output_type": "display_data"
    }
   ],
   "source": [
    "path_df = str('../pipeline/datasets/movies-aligned-master.csv')\n",
    "df = pd.read_csv(path_df, dtype=str)\n",
    "\n",
    "counts = Counter(df.values.ravel())\n",
    "if np.nan in counts:\n",
    "    counts.pop(np.nan)\n",
    "\n",
    "len(counts)\n",
    "\n",
    "v = counts.most_common()\n",
    "\n",
    "v1 = [_[1] for _ in v]\n",
    "v1 = [0]*1 + v1\n",
    "\n",
    "v1 = np.array(v1)\n",
    "vmovies = v1\n",
    "\n",
    "avg = np.average(v1)\n",
    "print('Average degree: {:.2f}'.format(avg))\n",
    "sumdeg = np.sum(v1)\n",
    "print('Total rid edges: {}'.format(sumdeg))\n",
    "\n",
    "norm_v1 = normalize(v1)\n",
    "fig = plt.figure(figsize=(10,8))\n",
    "ax = fig.gca()\n",
    "# plt.loglog(v1)\n",
    "\n",
    "plt.semilogx(norm_v1, label='normalized frequencies', ls=':')\n",
    "\n",
    "# plt.xlim([0, 1000])\n",
    "# fig = plt.figure()\n",
    "y1 = smooth_freq(v1)\n",
    "y2 = f_log(v1)\n",
    "y3 = smooth_freq(v1, target=15000, s=0.01)\n",
    "y4 = f_log(v1, 50)\n",
    "y5 = inverse_smooth(v1, 0.5)\n",
    "\n",
    "plt.semilogx(y1, label='exp target 200')\n",
    "plt.semilogx(y2, label='log10')\n",
    "plt.semilogx(y3, label='exp v2 target 15000')\n",
    "plt.semilogx(y4, label='log50')\n",
    "plt.semilogx(y5, label='inverse_smooth')\n",
    "\n",
    "plt.xlabel('Frequency rank, desc. sort')\n",
    "plt.legend()\n",
    "ax.axvline(100)\n",
    "# plt.xlim([0.1,10e5])\n",
    "fig = plt.figure(figsize=(10,6))\n",
    "print('Skewness: {:.2f}'.format(stats.skew(v1)))\n",
    "print('Kurtosis: {:.2f}'.format(stats.kurtosis(v1)))"
   ]
  },
  {
   "cell_type": "code",
   "execution_count": null,
   "metadata": {},
   "outputs": [],
   "source": [
    "fig = plt.figure(figsize=(10,6))\n",
    "\n",
    "plt.semilogx(y1*v1, label='exp target 200')\n",
    "plt.semilogx(y2*v1, label='log10')\n",
    "plt.semilogx(y3*v1, label='exp v2 target 10')\n",
    "plt.semilogx(y4*v1, label='log5')\n",
    "plt.semilogx(v1, label='unweighted')\n",
    "plt.legend()"
   ]
  },
  {
   "cell_type": "code",
   "execution_count": null,
   "metadata": {},
   "outputs": [],
   "source": [
    "plt.semilogx(normalize(vmovies), label='movies')\n",
    "plt.semilogx(normalize(vanime), label='anime')\n",
    "plt.semilogx(normalize(vdblp), label='dblp')\n",
    "plt.legend()"
   ]
  },
  {
   "cell_type": "code",
   "execution_count": 222,
   "metadata": {},
   "outputs": [
    {
     "data": {
      "text/plain": [
       "CumfreqResult(cumcount=array([11481., 11493., 11495., 11495., 11496., 11503., 11507., 11508.,\n",
       "       11510., 11511.]), lowerlimit=-48.72222222222222, binsize=97.44444444444443, extrapoints=0)"
      ]
     },
     "execution_count": 222,
     "metadata": {},
     "output_type": "execute_result"
    }
   ],
   "source": [
    "stats.cumfreq(v1)"
   ]
  },
  {
   "cell_type": "code",
   "execution_count": 22,
   "metadata": {},
   "outputs": [],
   "source": [
    "xax = np.linspace(99.5,100, num=10)\n",
    "perc = np.percentile(v1, xax)"
   ]
  },
  {
   "cell_type": "code",
   "execution_count": 24,
   "metadata": {},
   "outputs": [
    {
     "data": {
      "text/plain": [
       "(90, 100)"
      ]
     },
     "execution_count": 24,
     "metadata": {},
     "output_type": "execute_result"
    },
    {
     "data": {
      "image/png": "[encoded data removed]",
      "text/plain": [
       "<Figure size 432x288 with 1 Axes>"
      ]
     },
     "metadata": {
      "needs_background": "light"
     },
     "output_type": "display_data"
    }
   ],
   "source": [
    "plt.plot(xax,perc, marker='o')\n",
    "plt.xlim([90, 100])"
   ]
  },
  {
   "cell_type": "code",
   "execution_count": 33,
   "metadata": {},
   "outputs": [
    {
     "name": "stdout",
     "output_type": "stream",
     "text": [
      "Dataset: ../pipeline/datasets/movies-aligned-master.csv\n",
      "Total nodes: 107261\n",
      "Total nodes with rids: 157136\n",
      "Average degree: 4.03\n",
      "Total rid edges: 432048\n",
      "Max degree: 32185\n",
      "99-th percentile: 7.0\n",
      "99-th perc/n edges: 0.001620%\n",
      "Nodes above 99-th perc: 5348\n",
      "Edges above 99th perc: 280123\n",
      "Frac above perc: 64.84\n",
      "Average degree above perc: 52.38\n",
      "\n",
      "Dataset: ../pipeline/datasets/anime-master.csv\n",
      "Total nodes: 7246\n",
      "Total nodes with rids: 15246\n",
      "Average degree: 10.58\n",
      "Total rid edges: 76650\n",
      "Max degree: 4213\n",
      "99-th percentile: 10.0\n",
      "99-th perc/n edges: 0.013046%\n",
      "Nodes above 99-th perc: 354\n",
      "Edges above 99th perc: 67271\n",
      "Frac above perc: 87.76\n",
      "Average degree above perc: 190.03\n",
      "\n",
      "Dataset: ../pipeline/datasets/dblp-master.csv\n",
      "Total nodes: 11511\n",
      "Total nodes with rids: 16421\n",
      "Average degree: 2.81\n",
      "Total rid edges: 32319\n",
      "Max degree: 877\n",
      "99-th percentile: 5.0\n",
      "99-th perc/n edges: 0.015471%\n",
      "Nodes above 99-th perc: 492\n",
      "Edges above 99th perc: 16221\n",
      "Frac above perc: 50.19\n",
      "Average degree above perc: 32.97\n",
      "\n",
      "Dataset: ../pipeline/datasets/corleone-master.csv\n",
      "Total nodes: 223425\n",
      "Total nodes with rids: 290304\n",
      "Average degree: 1.59\n",
      "Total rid edges: 354740\n",
      "Max degree: 2374\n",
      "99-th percentile: 2.0\n",
      "99-th perc/n edges: 0.000564%\n",
      "Nodes above 99-th perc: 10005\n",
      "Edges above 99th perc: 128994\n",
      "Frac above perc: 36.36\n",
      "Average degree above perc: 12.89\n",
      "\n",
      "Dataset: ../pipeline/datasets/bikes-master.csv\n",
      "Total nodes: 16041\n",
      "Total nodes with rids: 29830\n",
      "Average degree: 7.74\n",
      "Total rid edges: 124099\n",
      "Max degree: 13233\n",
      "99-th percentile: 5.0\n",
      "99-th perc/n edges: 0.004029%\n",
      "Nodes above 99-th perc: 749\n",
      "Edges above 99th perc: 107507\n",
      "Frac above perc: 86.63\n",
      "Average degree above perc: 143.53\n",
      "\n"
     ]
    }
   ],
   "source": [
    "dsets = [\n",
    "    str('../pipeline/datasets/movies-aligned-master.csv'),\n",
    "    str('../pipeline/datasets/anime-master.csv'),\n",
    "    str('../pipeline/datasets/dblp-master.csv'),\n",
    "    str('../pipeline/datasets/corleone-master.csv'),\n",
    "    str('../pipeline/datasets/bikes-master.csv'),\n",
    "    \n",
    "]\n",
    "\n",
    "names = [os.path.basename(ds) for ds in dsets]\n",
    "\n",
    "counts_list = []\n",
    "\n",
    "for ds in dsets:\n",
    "    df = pd.read_csv(ds, dtype=str)\n",
    "\n",
    "    counts = Counter(df.values.ravel())\n",
    "    if np.nan in counts:\n",
    "        counts.pop(np.nan)\n",
    "\n",
    "    len(counts)\n",
    "\n",
    "    v = counts.most_common()\n",
    "\n",
    "    v1 = [_[1] for _ in v]\n",
    "    v1 = [0]*1 + v1\n",
    "\n",
    "    v1 = np.array(v1)\n",
    "    counts_list.append(v1)\n",
    "    \n",
    "    print('Dataset: {}'.format(ds))\n",
    "    total_nodes = len(v1)\n",
    "    total_nodes_with_rids = len(v1) + len(df)\n",
    "    print('Total nodes: {}'.format(total_nodes))\n",
    "    print('Total nodes with rids: {}'.format(total_nodes_with_rids))\n",
    "    avg = np.average(v1)\n",
    "    print('Average degree: {:.2f}'.format(avg))\n",
    "    sumdeg = np.sum(v1)\n",
    "    print('Total rid edges: {}'.format(sumdeg))\n",
    "    maxdeg = max(v1)\n",
    "    print('Max degree: {}'.format(maxdeg))\n",
    "    perc = np.percentile(v1, 95)\n",
    "    print('99-th percentile: {}'.format(perc))\n",
    "    print('99-th perc/n edges: {:.6f}%'.format(perc/sumdeg*100))\n",
    "    aboveperc = v1[v1>perc]\n",
    "    print('Nodes above 99-th perc: {}'.format(len(aboveperc)))\n",
    "    edgesaboveperc = sum(aboveperc)\n",
    "    print('Edges above 99th perc: {}'.format(edgesaboveperc))\n",
    "    print('Frac above perc: {:.2f}'.format(edgesaboveperc/sumdeg*100))\n",
    "    avg_deg_above_perc = np.average(aboveperc)\n",
    "    print('Average degree above perc: {:.2f}'.format(avg_deg_above_perc))\n",
    "    \n",
    "    print('')"
   ]
  },
  {
   "cell_type": "code",
   "execution_count": 139,
   "metadata": {},
   "outputs": [
    {
     "data": {
      "text/plain": [
       "<matplotlib.legend.Legend at 0x7fc369f4f780>"
      ]
     },
     "execution_count": 139,
     "metadata": {},
     "output_type": "execute_result"
    },
    {
     "name": "stderr",
     "output_type": "stream",
     "text": [
      "/home/spoutnik23/anaconda3/lib/python3.7/site-packages/IPython/core/events.py:88: UserWarning: Creating legend with loc=\"best\" can be slow with large amounts of data.\n",
      "  func(*args, **kwargs)\n",
      "/home/spoutnik23/anaconda3/lib/python3.7/site-packages/IPython/core/pylabtools.py:128: UserWarning: Creating legend with loc=\"best\" can be slow with large amounts of data.\n",
      "  fig.canvas.print_figure(bytes_io, **kw)\n"
     ]
    },
    {
     "data": {
      "image/png": "[encoded data removed]",
      "text/plain": [
       "<Figure size 432x288 with 1 Axes>"
      ]
     },
     "metadata": {
      "needs_background": "light"
     },
     "output_type": "display_data"
    }
   ],
   "source": [
    "for l in range(len(counts_list)):\n",
    "    plt.loglog(counts_list[l], label=names[l])\n",
    "plt.legend()"
   ]
  },
  {
   "cell_type": "code",
   "execution_count": 3,
   "metadata": {},
   "outputs": [],
   "source": [
    "dname = 'dblp_acm'\n",
    "fpath = 'pipeline/walks/{}-el-baserot.walks'.format(dname)"
   ]
  },
  {
   "cell_type": "code",
   "execution_count": 7,
   "metadata": {},
   "outputs": [],
   "source": [
    "from collections import Counter\n",
    "import pandas as pd"
   ]
  },
  {
   "cell_type": "code",
   "execution_count": 8,
   "metadata": {},
   "outputs": [],
   "source": [
    "c = Counter()\n",
    "\n",
    "with open(fpath, 'r') as fp:\n",
    "    for idx, line in enumerate(fp):\n",
    "        c.update(line.strip().split(' '))"
   ]
  },
  {
   "cell_type": "code",
   "execution_count": 9,
   "metadata": {},
   "outputs": [
    {
     "data": {
      "text/plain": [
       "[('cid__title', 546069),\n",
       " ('cid__author_1', 406314),\n",
       " ('cid__author_2', 366900),\n",
       " ('cid__author_3', 294239),\n",
       " ('cid__author_4', 188920),\n",
       " ('tt__data', 160612),\n",
       " ('tt__sigmod', 140113),\n",
       " ('tt__conference', 118014),\n",
       " ('tt__of', 115731),\n",
       " ('tt__on', 107704)]"
      ]
     },
     "execution_count": 9,
     "metadata": {},
     "output_type": "execute_result"
    }
   ],
   "source": [
    "c.most_common(n=10)"
   ]
  },
  {
   "cell_type": "code",
   "execution_count": 11,
   "metadata": {},
   "outputs": [],
   "source": [
    "dd = pd.DataFrame(c.most_common())\n",
    "\n",
    "dd.columns = ['value', 'frequency']"
   ]
  },
  {
   "cell_type": "code",
   "execution_count": 17,
   "metadata": {},
   "outputs": [],
   "source": [
    "def p(val, t=0.001):\n",
    "    return (val-t)/val - (t/val)**(1/2)\n",
    "\n",
    "def sample(val, t=0.001):\n",
    "    return val-((val-t)/val - (t/val)**(1/2))*val"
   ]
  },
  {
   "cell_type": "code",
   "execution_count": 20,
   "metadata": {},
   "outputs": [
    {
     "data": {
      "text/html": [
       "<div>\n",
       "<style scoped>\n",
       "    .dataframe tbody tr th:only-of-type {\n",
       "        vertical-align: middle;\n",
       "    }\n",
       "\n",
       "    .dataframe tbody tr th {\n",
       "        vertical-align: top;\n",
       "    }\n",
       "\n",
       "    .dataframe thead th {\n",
       "        text-align: right;\n",
       "    }\n",
       "</style>\n",
       "<table border=\"1\" class=\"dataframe\">\n",
       "  <thead>\n",
       "    <tr style=\"text-align: right;\">\n",
       "      <th></th>\n",
       "      <th>value</th>\n",
       "      <th>frequency</th>\n",
       "      <th>p</th>\n",
       "      <th>sampled</th>\n",
       "    </tr>\n",
       "  </thead>\n",
       "  <tbody>\n",
       "    <tr>\n",
       "      <th>0</th>\n",
       "      <td>cid__title</td>\n",
       "      <td>546069</td>\n",
       "      <td>0.999572</td>\n",
       "      <td>233.781193</td>\n",
       "    </tr>\n",
       "    <tr>\n",
       "      <th>1</th>\n",
       "      <td>cid__author_1</td>\n",
       "      <td>406314</td>\n",
       "      <td>0.999504</td>\n",
       "      <td>201.672320</td>\n",
       "    </tr>\n",
       "    <tr>\n",
       "      <th>2</th>\n",
       "      <td>cid__author_2</td>\n",
       "      <td>366900</td>\n",
       "      <td>0.999478</td>\n",
       "      <td>191.646339</td>\n",
       "    </tr>\n",
       "    <tr>\n",
       "      <th>3</th>\n",
       "      <td>cid__author_3</td>\n",
       "      <td>294239</td>\n",
       "      <td>0.999417</td>\n",
       "      <td>171.633962</td>\n",
       "    </tr>\n",
       "    <tr>\n",
       "      <th>4</th>\n",
       "      <td>cid__author_4</td>\n",
       "      <td>188920</td>\n",
       "      <td>0.999272</td>\n",
       "      <td>137.548172</td>\n",
       "    </tr>\n",
       "    <tr>\n",
       "      <th>...</th>\n",
       "      <td>...</td>\n",
       "      <td>...</td>\n",
       "      <td>...</td>\n",
       "      <td>...</td>\n",
       "    </tr>\n",
       "    <tr>\n",
       "      <th>19725</th>\n",
       "      <td>tt__efficient_and_tumble_similar_set_retrieval</td>\n",
       "      <td>139</td>\n",
       "      <td>0.972458</td>\n",
       "      <td>3.828270</td>\n",
       "    </tr>\n",
       "    <tr>\n",
       "      <th>19726</th>\n",
       "      <td>tt__bradford_pielech</td>\n",
       "      <td>136</td>\n",
       "      <td>0.972148</td>\n",
       "      <td>3.787818</td>\n",
       "    </tr>\n",
       "    <tr>\n",
       "      <th>19727</th>\n",
       "      <td>tt__orderofmagnitude_advantage_on_tpcc_through...</td>\n",
       "      <td>134</td>\n",
       "      <td>0.971936</td>\n",
       "      <td>3.760601</td>\n",
       "    </tr>\n",
       "    <tr>\n",
       "      <th>19728</th>\n",
       "      <td>tt__kevin_haas</td>\n",
       "      <td>133</td>\n",
       "      <td>0.971828</td>\n",
       "      <td>3.746917</td>\n",
       "    </tr>\n",
       "    <tr>\n",
       "      <th>19729</th>\n",
       "      <td>tt__vijayalakshmi_atluri</td>\n",
       "      <td>132</td>\n",
       "      <td>0.971718</td>\n",
       "      <td>3.733180</td>\n",
       "    </tr>\n",
       "  </tbody>\n",
       "</table>\n",
       "<p>19730 rows × 4 columns</p>\n",
       "</div>"
      ],
      "text/plain": [
       "                                                   value  frequency         p  \\\n",
       "0                                             cid__title     546069  0.999572   \n",
       "1                                          cid__author_1     406314  0.999504   \n",
       "2                                          cid__author_2     366900  0.999478   \n",
       "3                                          cid__author_3     294239  0.999417   \n",
       "4                                          cid__author_4     188920  0.999272   \n",
       "...                                                  ...        ...       ...   \n",
       "19725     tt__efficient_and_tumble_similar_set_retrieval        139  0.972458   \n",
       "19726                               tt__bradford_pielech        136  0.972148   \n",
       "19727  tt__orderofmagnitude_advantage_on_tpcc_through...        134  0.971936   \n",
       "19728                                     tt__kevin_haas        133  0.971828   \n",
       "19729                           tt__vijayalakshmi_atluri        132  0.971718   \n",
       "\n",
       "          sampled  \n",
       "0      233.781193  \n",
       "1      201.672320  \n",
       "2      191.646339  \n",
       "3      171.633962  \n",
       "4      137.548172  \n",
       "...           ...  \n",
       "19725    3.828270  \n",
       "19726    3.787818  \n",
       "19727    3.760601  \n",
       "19728    3.746917  \n",
       "19729    3.733180  \n",
       "\n",
       "[19730 rows x 4 columns]"
      ]
     },
     "execution_count": 20,
     "metadata": {},
     "output_type": "execute_result"
    }
   ],
   "source": [
    "dd['p'] = dd['frequency'].apply(p, t=0.1)\n",
    "\n",
    "dd['sampled'] = dd['frequency'].apply(sample, t=0.1)\n",
    "\n",
    "dd"
   ]
  },
  {
   "cell_type": "code",
   "execution_count": 21,
   "metadata": {},
   "outputs": [
    {
     "data": {
      "text/html": [
       "<div>\n",
       "<style scoped>\n",
       "    .dataframe tbody tr th:only-of-type {\n",
       "        vertical-align: middle;\n",
       "    }\n",
       "\n",
       "    .dataframe tbody tr th {\n",
       "        vertical-align: top;\n",
       "    }\n",
       "\n",
       "    .dataframe thead th {\n",
       "        text-align: right;\n",
       "    }\n",
       "</style>\n",
       "<table border=\"1\" class=\"dataframe\">\n",
       "  <thead>\n",
       "    <tr style=\"text-align: right;\">\n",
       "      <th></th>\n",
       "      <th>value</th>\n",
       "      <th>frequency</th>\n",
       "      <th>p</th>\n",
       "      <th>sampled</th>\n",
       "    </tr>\n",
       "  </thead>\n",
       "  <tbody>\n",
       "    <tr>\n",
       "      <th>0</th>\n",
       "      <td>cid__title</td>\n",
       "      <td>546069</td>\n",
       "      <td>0.999957</td>\n",
       "      <td>23.369119</td>\n",
       "    </tr>\n",
       "    <tr>\n",
       "      <th>1</th>\n",
       "      <td>cid__author_1</td>\n",
       "      <td>406314</td>\n",
       "      <td>0.999950</td>\n",
       "      <td>20.158232</td>\n",
       "    </tr>\n",
       "    <tr>\n",
       "      <th>2</th>\n",
       "      <td>cid__author_2</td>\n",
       "      <td>366900</td>\n",
       "      <td>0.999948</td>\n",
       "      <td>19.155634</td>\n",
       "    </tr>\n",
       "    <tr>\n",
       "      <th>3</th>\n",
       "      <td>cid__author_3</td>\n",
       "      <td>294239</td>\n",
       "      <td>0.999942</td>\n",
       "      <td>17.154396</td>\n",
       "    </tr>\n",
       "    <tr>\n",
       "      <th>4</th>\n",
       "      <td>cid__author_4</td>\n",
       "      <td>188920</td>\n",
       "      <td>0.999927</td>\n",
       "      <td>13.745817</td>\n",
       "    </tr>\n",
       "    <tr>\n",
       "      <th>...</th>\n",
       "      <td>...</td>\n",
       "      <td>...</td>\n",
       "      <td>...</td>\n",
       "      <td>...</td>\n",
       "    </tr>\n",
       "    <tr>\n",
       "      <th>19725</th>\n",
       "      <td>tt__efficient_and_tumble_similar_set_retrieval</td>\n",
       "      <td>139</td>\n",
       "      <td>0.997311</td>\n",
       "      <td>0.373827</td>\n",
       "    </tr>\n",
       "    <tr>\n",
       "      <th>19726</th>\n",
       "      <td>tt__bradford_pielech</td>\n",
       "      <td>136</td>\n",
       "      <td>0.997281</td>\n",
       "      <td>0.369782</td>\n",
       "    </tr>\n",
       "    <tr>\n",
       "      <th>19727</th>\n",
       "      <td>tt__orderofmagnitude_advantage_on_tpcc_through...</td>\n",
       "      <td>134</td>\n",
       "      <td>0.997261</td>\n",
       "      <td>0.367060</td>\n",
       "    </tr>\n",
       "    <tr>\n",
       "      <th>19728</th>\n",
       "      <td>tt__kevin_haas</td>\n",
       "      <td>133</td>\n",
       "      <td>0.997250</td>\n",
       "      <td>0.365692</td>\n",
       "    </tr>\n",
       "    <tr>\n",
       "      <th>19729</th>\n",
       "      <td>tt__vijayalakshmi_atluri</td>\n",
       "      <td>132</td>\n",
       "      <td>0.997240</td>\n",
       "      <td>0.364318</td>\n",
       "    </tr>\n",
       "  </tbody>\n",
       "</table>\n",
       "<p>19730 rows × 4 columns</p>\n",
       "</div>"
      ],
      "text/plain": [
       "                                                   value  frequency         p  \\\n",
       "0                                             cid__title     546069  0.999957   \n",
       "1                                          cid__author_1     406314  0.999950   \n",
       "2                                          cid__author_2     366900  0.999948   \n",
       "3                                          cid__author_3     294239  0.999942   \n",
       "4                                          cid__author_4     188920  0.999927   \n",
       "...                                                  ...        ...       ...   \n",
       "19725     tt__efficient_and_tumble_similar_set_retrieval        139  0.997311   \n",
       "19726                               tt__bradford_pielech        136  0.997281   \n",
       "19727  tt__orderofmagnitude_advantage_on_tpcc_through...        134  0.997261   \n",
       "19728                                     tt__kevin_haas        133  0.997250   \n",
       "19729                           tt__vijayalakshmi_atluri        132  0.997240   \n",
       "\n",
       "         sampled  \n",
       "0      23.369119  \n",
       "1      20.158232  \n",
       "2      19.155634  \n",
       "3      17.154396  \n",
       "4      13.745817  \n",
       "...          ...  \n",
       "19725   0.373827  \n",
       "19726   0.369782  \n",
       "19727   0.367060  \n",
       "19728   0.365692  \n",
       "19729   0.364318  \n",
       "\n",
       "[19730 rows x 4 columns]"
      ]
     },
     "execution_count": 21,
     "metadata": {},
     "output_type": "execute_result"
    }
   ],
   "source": [
    "dd['p'] = dd['frequency'].apply(p, t=0.001)\n",
    "\n",
    "dd['sampled'] = dd['frequency'].apply(sample, t=0.001)\n",
    "\n",
    "dd"
   ]
  },
  {
   "cell_type": "code",
   "execution_count": null,
   "metadata": {},
   "outputs": [],
   "source": []
  }
 ],
 "metadata": {
  "kernelspec": {
   "display_name": "PyCharm (EmbDI)",
   "language": "python",
   "name": "pycharm-f75c726a"
  },
  "language_info": {
   "codemirror_mode": {
    "name": "ipython",
    "version": 3
   },
   "file_extension": ".py",
   "mimetype": "text/x-python",
   "name": "python",
   "nbconvert_exporter": "python",
   "pygments_lexer": "ipython3",
   "version": "3.7.3"
  },
  "pycharm": {
   "stem_cell": {
    "cell_type": "raw",
    "metadata": {
     "collapsed": false
    },
    "source": []
   }
  }
 },
 "nbformat": 4,
 "nbformat_minor": 4
}
